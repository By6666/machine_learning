{
 "cells": [
  {
   "cell_type": "markdown",
   "metadata": {},
   "source": [
    "# SVM思想解决回归问题"
   ]
  },
  {
   "cell_type": "code",
   "execution_count": 1,
   "metadata": {},
   "outputs": [],
   "source": [
    "import matplotlib.pyplot as plt\n",
    "import numpy as np\n",
    "from sklearn import datasets"
   ]
  },
  {
   "cell_type": "code",
   "execution_count": 2,
   "metadata": {},
   "outputs": [],
   "source": [
    "boston = datasets.load_boston()\n",
    "\n",
    "x = boston.data\n",
    "y = boston.target"
   ]
  },
  {
   "cell_type": "code",
   "execution_count": 3,
   "metadata": {},
   "outputs": [],
   "source": [
    "# 数据分离\n",
    "from sklearn.model_selection import train_test_split\n",
    "\n",
    "x_train, x_test, y_train, y_test = train_test_split(x, y, random_state = 666)"
   ]
  },
  {
   "cell_type": "code",
   "execution_count": 4,
   "metadata": {},
   "outputs": [],
   "source": [
    "from sklearn.svm import LinearSVR\n",
    "from sklearn.svm import SVR\n",
    "from sklearn.preprocessing import StandardScaler\n",
    "from sklearn.pipeline import Pipeline"
   ]
  },
  {
   "cell_type": "code",
   "execution_count": 5,
   "metadata": {},
   "outputs": [],
   "source": [
    "def StandardLinearSVR(epsilon = 0.1, C=1):\n",
    "    return Pipeline([\n",
    "        (\"std\", StandardScaler()),\n",
    "        (\"linearSVR\", LinearSVR(epsilon=epsilon, C=C))\n",
    "    ])\n",
    "\n",
    "def StandardSVR(epsilon = 0.1, gamma=1, C=1):\n",
    "    return Pipeline([\n",
    "        (\"std\", StandardScaler()),\n",
    "        (\"svr\", SVR(epsilon=epsilon, kernel=\"rbf\", gamma=gamma, C=C))\n",
    "    ])"
   ]
  },
  {
   "cell_type": "code",
   "execution_count": 6,
   "metadata": {},
   "outputs": [
    {
     "name": "stdout",
     "output_type": "stream",
     "text": [
      "train score :  0.7352068535060929\n",
      "test score :  0.6422641699140331\n"
     ]
    }
   ],
   "source": [
    "liner_svr = StandardLinearSVR(1.2, 2)\n",
    "liner_svr.fit(x_train, y_train)\n",
    "print(\"train score : \", liner_svr.score(x_train, y_train))\n",
    "print(\"test score : \",liner_svr.score(x_test, y_test))"
   ]
  },
  {
   "cell_type": "code",
   "execution_count": 7,
   "metadata": {},
   "outputs": [
    {
     "name": "stdout",
     "output_type": "stream",
     "text": [
      "train score :  0.9546147934940431\n",
      "test score :  0.8447803722382281\n"
     ]
    }
   ],
   "source": [
    "svr = StandardSVR(1.2, 0.05, 100)\n",
    "svr.fit(x_train, y_train)\n",
    "print(\"train score : \", svr.score(x_train, y_train))\n",
    "print(\"test score : \",svr.score(x_test, y_test))"
   ]
  },
  {
   "cell_type": "code",
   "execution_count": null,
   "metadata": {},
   "outputs": [],
   "source": []
  },
  {
   "cell_type": "markdown",
   "metadata": {},
   "source": [
    "## 调整超参数"
   ]
  },
  {
   "cell_type": "code",
   "execution_count": 19,
   "metadata": {},
   "outputs": [],
   "source": [
    "from sklearn.model_selection import GridSearchCV\n",
    "\n",
    "grid_prama = [\n",
    "    {\n",
    "        \"std\":[StandardScaler()],\n",
    "        \"svr__kernel\":[\"rbf\"],\n",
    "        \"svr__epsilon\": np.arange(0,3,0.1),\n",
    "        \"svr__gamma\":np.arange(0,1,0.05),\n",
    "        \"svr__C\":np.arange(1,101,0.5)\n",
    "    }\n",
    "]"
   ]
  },
  {
   "cell_type": "code",
   "execution_count": 20,
   "metadata": {},
   "outputs": [
    {
     "name": "stdout",
     "output_type": "stream",
     "text": [
      "Fitting 5 folds for each of 120000 candidates, totalling 600000 fits\n"
     ]
    },
    {
     "name": "stderr",
     "output_type": "stream",
     "text": [
      "[Parallel(n_jobs=-1)]: Using backend LokyBackend with 6 concurrent workers.\n",
      "[Parallel(n_jobs=-1)]: Done  40 tasks      | elapsed:    1.6s\n",
      "[Parallel(n_jobs=-1)]: Done 6668 tasks      | elapsed:    7.7s\n",
      "[Parallel(n_jobs=-1)]: Done 22668 tasks      | elapsed:   22.1s\n",
      "[Parallel(n_jobs=-1)]: Done 45068 tasks      | elapsed:   43.9s\n",
      "[Parallel(n_jobs=-1)]: Done 73868 tasks      | elapsed:  1.2min\n",
      "[Parallel(n_jobs=-1)]: Done 109068 tasks      | elapsed:  1.9min\n",
      "[Parallel(n_jobs=-1)]: Done 150668 tasks      | elapsed:  2.7min\n",
      "[Parallel(n_jobs=-1)]: Done 198668 tasks      | elapsed:  3.7min\n",
      "[Parallel(n_jobs=-1)]: Done 253068 tasks      | elapsed:  4.9min\n",
      "[Parallel(n_jobs=-1)]: Done 288804 tasks      | elapsed:  5.8min\n",
      "[Parallel(n_jobs=-1)]: Done 314004 tasks      | elapsed:  6.4min\n",
      "[Parallel(n_jobs=-1)]: Done 341604 tasks      | elapsed:  7.1min\n",
      "[Parallel(n_jobs=-1)]: Done 371604 tasks      | elapsed:  7.8min\n",
      "[Parallel(n_jobs=-1)]: Done 404004 tasks      | elapsed:  8.6min\n",
      "[Parallel(n_jobs=-1)]: Done 438804 tasks      | elapsed:  9.5min\n",
      "[Parallel(n_jobs=-1)]: Done 476004 tasks      | elapsed: 10.4min\n",
      "[Parallel(n_jobs=-1)]: Done 515604 tasks      | elapsed: 11.4min\n",
      "[Parallel(n_jobs=-1)]: Done 557604 tasks      | elapsed: 12.4min\n",
      "[Parallel(n_jobs=-1)]: Done 600000 out of 600000 | elapsed: 13.5min finished\n",
      "D:\\Anaconda\\Anaconda3\\envs\\Tensorflow-gpu\\lib\\site-packages\\sklearn\\model_selection\\_search.py:814: DeprecationWarning: The default of the `iid` parameter will change from True to False in version 0.22 and will be removed in 0.24. This will change numeric results when test-set sizes are unequal.\n",
      "  DeprecationWarning)\n"
     ]
    },
    {
     "data": {
      "text/plain": [
       "GridSearchCV(cv=5, error_score='raise-deprecating',\n",
       "             estimator=Pipeline(memory=None,\n",
       "                                steps=[('std',\n",
       "                                        StandardScaler(copy=True,\n",
       "                                                       with_mean=True,\n",
       "                                                       with_std=True)),\n",
       "                                       ('svr',\n",
       "                                        SVR(C=1.0, cache_size=200, coef0=0.0,\n",
       "                                            degree=3, epsilon=0.1,\n",
       "                                            gamma='auto_deprecated',\n",
       "                                            kernel='rbf', max_iter=-1,\n",
       "                                            shrinking=True, tol=0.001,\n",
       "                                            verbose=False))],\n",
       "                                verbose=False),\n",
       "             iid='warn', n_jobs=-1,\n",
       "             param_gri...\n",
       "                          'svr__epsilon': array([0. , 0.1, 0.2, 0.3, 0.4, 0.5, 0.6, 0.7, 0.8, 0.9, 1. , 1.1, 1.2,\n",
       "       1.3, 1.4, 1.5, 1.6, 1.7, 1.8, 1.9, 2. , 2.1, 2.2, 2.3, 2.4, 2.5,\n",
       "       2.6, 2.7, 2.8, 2.9]),\n",
       "                          'svr__gamma': array([0.  , 0.05, 0.1 , 0.15, 0.2 , 0.25, 0.3 , 0.35, 0.4 , 0.45, 0.5 ,\n",
       "       0.55, 0.6 , 0.65, 0.7 , 0.75, 0.8 , 0.85, 0.9 , 0.95]),\n",
       "                          'svr__kernel': ['rbf']}],\n",
       "             pre_dispatch='2*n_jobs', refit=True, return_train_score=False,\n",
       "             scoring=None, verbose=1)"
      ]
     },
     "execution_count": 20,
     "metadata": {},
     "output_type": "execute_result"
    }
   ],
   "source": [
    "svr_for_search = Pipeline([\n",
    "        (\"std\", StandardScaler()),\n",
    "        (\"svr\", SVR())\n",
    "    ])\n",
    "\n",
    "svr_search = GridSearchCV(svr_for_search, grid_prama, verbose=1, cv=5, n_jobs=-1)\n",
    "svr_search.fit(x_train, y_train)"
   ]
  },
  {
   "cell_type": "code",
   "execution_count": 21,
   "metadata": {},
   "outputs": [
    {
     "data": {
      "text/plain": [
       "{'std': StandardScaler(copy=True, with_mean=True, with_std=True),\n",
       " 'svr__C': 100.5,\n",
       " 'svr__epsilon': 0.6000000000000001,\n",
       " 'svr__gamma': 0.05,\n",
       " 'svr__kernel': 'rbf'}"
      ]
     },
     "execution_count": 21,
     "metadata": {},
     "output_type": "execute_result"
    }
   ],
   "source": [
    "svr_search.best_params_"
   ]
  },
  {
   "cell_type": "code",
   "execution_count": 22,
   "metadata": {},
   "outputs": [
    {
     "data": {
      "text/plain": [
       "0.8640371766815954"
      ]
     },
     "execution_count": 22,
     "metadata": {},
     "output_type": "execute_result"
    }
   ],
   "source": [
    "svr_search.best_score_"
   ]
  },
  {
   "cell_type": "code",
   "execution_count": 26,
   "metadata": {},
   "outputs": [
    {
     "name": "stdout",
     "output_type": "stream",
     "text": [
      "train score :  0.9560591596706831\n",
      "test score :  0.8339639628432032\n"
     ]
    }
   ],
   "source": [
    "svr = StandardSVR(0.6, 0.05, 100.5)\n",
    "svr.fit(x_train, y_train)\n",
    "print(\"train score : \", svr.score(x_train, y_train))\n",
    "print(\"test score : \",svr.score(x_test, y_test))"
   ]
  },
  {
   "cell_type": "code",
   "execution_count": null,
   "metadata": {},
   "outputs": [],
   "source": []
  }
 ],
 "metadata": {
  "kernelspec": {
   "display_name": "Tensorflow",
   "language": "python",
   "name": "tensorflow-gpu"
  },
  "language_info": {
   "codemirror_mode": {
    "name": "ipython",
    "version": 3
   },
   "file_extension": ".py",
   "mimetype": "text/x-python",
   "name": "python",
   "nbconvert_exporter": "python",
   "pygments_lexer": "ipython3",
   "version": "3.6.2"
  }
 },
 "nbformat": 4,
 "nbformat_minor": 2
}
