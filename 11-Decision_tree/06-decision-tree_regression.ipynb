{
 "cells": [
  {
   "cell_type": "markdown",
   "metadata": {},
   "source": [
    "# 决策树解决回归问题"
   ]
  },
  {
   "cell_type": "code",
   "execution_count": 1,
   "metadata": {},
   "outputs": [],
   "source": [
    "import matplotlib.pyplot as plt\n",
    "import numpy as np\n",
    "from sklearn import datasets"
   ]
  },
  {
   "cell_type": "code",
   "execution_count": 2,
   "metadata": {},
   "outputs": [],
   "source": [
    "# 数据加载\n",
    "boston = datasets.load_boston()\n",
    "x = boston.data\n",
    "y = boston.target"
   ]
  },
  {
   "cell_type": "code",
   "execution_count": 3,
   "metadata": {},
   "outputs": [],
   "source": [
    "# 数据split\n",
    "from sklearn.model_selection import train_test_split\n",
    "x_train, x_test, y_train, y_test = train_test_split(x, y, random_state = 666)"
   ]
  },
  {
   "cell_type": "markdown",
   "metadata": {},
   "source": [
    "## 使用基本的sklearn中的decision tree regression"
   ]
  },
  {
   "cell_type": "code",
   "execution_count": 4,
   "metadata": {},
   "outputs": [
    {
     "name": "stdout",
     "output_type": "stream",
     "text": [
      "train score :  1.0\n",
      "test score :  0.5950249082432981\n"
     ]
    }
   ],
   "source": [
    "from sklearn.tree import DecisionTreeRegressor\n",
    "\n",
    "dt_reg = DecisionTreeRegressor()\n",
    "dt_reg.fit(x_train, y_train)\n",
    "print(\"train score : \", dt_reg.score(x_train, y_train))\n",
    "print(\"test score : \", dt_reg.score(x_test, y_test))"
   ]
  },
  {
   "cell_type": "markdown",
   "metadata": {},
   "source": [
    "## 参数调节"
   ]
  },
  {
   "cell_type": "code",
   "execution_count": 10,
   "metadata": {},
   "outputs": [],
   "source": [
    "from sklearn.model_selection import GridSearchCV\n",
    "\n",
    "grid_param = [\n",
    "    {\n",
    "        \"max_depth\":[i for i in range(1,20)],\n",
    "        \"max_leaf_nodes\":[i for i in range(3,12)],\n",
    "        \"max_features\":[i for i in range(3,12)],\n",
    "        \"min_samples_split\":[i for i in range(3,12)],\n",
    "        \"min_samples_leaf\":[i for i in range(3,12)],\n",
    "        \"min_weight_fraction_leaf\":np.arange(0, 0.5, 0.05)\n",
    "    }\n",
    "]"
   ]
  },
  {
   "cell_type": "code",
   "execution_count": 11,
   "metadata": {},
   "outputs": [
    {
     "name": "stdout",
     "output_type": "stream",
     "text": [
      "Fitting 5 folds for each of 1246590 candidates, totalling 6232950 fits\n"
     ]
    },
    {
     "name": "stderr",
     "output_type": "stream",
     "text": [
      "[Parallel(n_jobs=-1)]: Using backend LokyBackend with 6 concurrent workers.\n",
      "[Parallel(n_jobs=-1)]: Done  38 tasks      | elapsed:    9.3s\n",
      "[Parallel(n_jobs=-1)]: Done 8354 tasks      | elapsed:   23.1s\n",
      "[Parallel(n_jobs=-1)]: Done 48354 tasks      | elapsed:   33.4s\n",
      "[Parallel(n_jobs=-1)]: Done 104354 tasks      | elapsed:   48.6s\n",
      "[Parallel(n_jobs=-1)]: Done 176354 tasks      | elapsed:  1.1min\n",
      "[Parallel(n_jobs=-1)]: Done 264354 tasks      | elapsed:  1.5min\n",
      "[Parallel(n_jobs=-1)]: Done 368354 tasks      | elapsed:  1.9min\n",
      "[Parallel(n_jobs=-1)]: Done 488354 tasks      | elapsed:  2.5min\n",
      "[Parallel(n_jobs=-1)]: Done 624354 tasks      | elapsed:  3.1min\n",
      "[Parallel(n_jobs=-1)]: Done 776354 tasks      | elapsed:  3.7min\n",
      "[Parallel(n_jobs=-1)]: Done 944354 tasks      | elapsed:  4.5min\n",
      "[Parallel(n_jobs=-1)]: Done 1128354 tasks      | elapsed:  5.3min\n",
      "[Parallel(n_jobs=-1)]: Done 1328354 tasks      | elapsed:  6.2min\n",
      "[Parallel(n_jobs=-1)]: Done 1544354 tasks      | elapsed:  7.2min\n",
      "[Parallel(n_jobs=-1)]: Done 1776354 tasks      | elapsed:  8.2min\n",
      "[Parallel(n_jobs=-1)]: Done 2024354 tasks      | elapsed:  9.4min\n",
      "[Parallel(n_jobs=-1)]: Done 2288354 tasks      | elapsed: 10.5min\n",
      "[Parallel(n_jobs=-1)]: Done 2568354 tasks      | elapsed: 11.8min\n",
      "[Parallel(n_jobs=-1)]: Done 2864354 tasks      | elapsed: 13.2min\n",
      "[Parallel(n_jobs=-1)]: Done 3176354 tasks      | elapsed: 14.5min\n",
      "[Parallel(n_jobs=-1)]: Done 3504354 tasks      | elapsed: 15.9min\n",
      "[Parallel(n_jobs=-1)]: Done 3848354 tasks      | elapsed: 17.4min\n",
      "[Parallel(n_jobs=-1)]: Done 4208354 tasks      | elapsed: 19.0min\n",
      "[Parallel(n_jobs=-1)]: Done 4584354 tasks      | elapsed: 20.7min\n",
      "[Parallel(n_jobs=-1)]: Done 4976354 tasks      | elapsed: 22.4min\n",
      "[Parallel(n_jobs=-1)]: Done 5384354 tasks      | elapsed: 24.2min\n",
      "[Parallel(n_jobs=-1)]: Done 5808354 tasks      | elapsed: 26.0min\n",
      "[Parallel(n_jobs=-1)]: Done 6232950 out of 6232950 | elapsed: 27.9min finished\n",
      "D:\\Anaconda\\Anaconda3\\envs\\Tensorflow-gpu\\lib\\site-packages\\sklearn\\model_selection\\_search.py:814: DeprecationWarning: The default of the `iid` parameter will change from True to False in version 0.22 and will be removed in 0.24. This will change numeric results when test-set sizes are unequal.\n",
      "  DeprecationWarning)\n"
     ]
    },
    {
     "data": {
      "text/plain": [
       "GridSearchCV(cv=5, error_score='raise-deprecating',\n",
       "             estimator=DecisionTreeRegressor(criterion='mse', max_depth=None,\n",
       "                                             max_features=None,\n",
       "                                             max_leaf_nodes=None,\n",
       "                                             min_impurity_decrease=0.0,\n",
       "                                             min_impurity_split=None,\n",
       "                                             min_samples_leaf=1,\n",
       "                                             min_samples_split=2,\n",
       "                                             min_weight_fraction_leaf=0.0,\n",
       "                                             presort=False, random_state=None,\n",
       "                                             splitter='best'),\n",
       "             iid='warn', n_jobs=-1,\n",
       "             param_grid=..., 12,\n",
       "                                        13, 14, 15, 16, 17, 18, 19],\n",
       "                          'max_features': [3, 4, 5, 6, 7, 8, 9, 10, 11],\n",
       "                          'max_leaf_nodes': [3, 4, 5, 6, 7, 8, 9, 10, 11],\n",
       "                          'min_samples_leaf': [3, 4, 5, 6, 7, 8, 9, 10, 11],\n",
       "                          'min_samples_split': [3, 4, 5, 6, 7, 8, 9, 10, 11],\n",
       "                          'min_weight_fraction_leaf': array([0.  , 0.05, 0.1 , 0.15, 0.2 , 0.25, 0.3 , 0.35, 0.4 , 0.45])}],\n",
       "             pre_dispatch='2*n_jobs', refit=True, return_train_score=False,\n",
       "             scoring=None, verbose=1)"
      ]
     },
     "execution_count": 11,
     "metadata": {},
     "output_type": "execute_result"
    }
   ],
   "source": [
    "dt_reg_search = DecisionTreeRegressor()\n",
    "grid_search = GridSearchCV(dt_reg_search, param_grid=grid_param, n_jobs=-1, verbose=1, cv=5)\n",
    "grid_search.fit(x_train, y_train)"
   ]
  },
  {
   "cell_type": "code",
   "execution_count": 12,
   "metadata": {},
   "outputs": [
    {
     "data": {
      "text/plain": [
       "{'max_depth': 13,\n",
       " 'max_features': 10,\n",
       " 'max_leaf_nodes': 10,\n",
       " 'min_samples_leaf': 3,\n",
       " 'min_samples_split': 3,\n",
       " 'min_weight_fraction_leaf': 0.0}"
      ]
     },
     "execution_count": 12,
     "metadata": {},
     "output_type": "execute_result"
    }
   ],
   "source": [
    "grid_search.best_params_"
   ]
  },
  {
   "cell_type": "code",
   "execution_count": 13,
   "metadata": {},
   "outputs": [
    {
     "data": {
      "text/plain": [
       "0.7957836976796565"
      ]
     },
     "execution_count": 13,
     "metadata": {},
     "output_type": "execute_result"
    }
   ],
   "source": [
    "grid_search.best_score_"
   ]
  },
  {
   "cell_type": "code",
   "execution_count": 29,
   "metadata": {},
   "outputs": [
    {
     "data": {
      "text/plain": [
       "0.546597031652077"
      ]
     },
     "execution_count": 29,
     "metadata": {},
     "output_type": "execute_result"
    }
   ],
   "source": [
    "grid_search.best_estimator_.score(x_test, y_test)"
   ]
  },
  {
   "cell_type": "markdown",
   "metadata": {},
   "source": [
    "# 总结：\n",
    "\n",
    "* 1、决策树可以做回归\n",
    "* 2、决策树做回归效果不尽人意"
   ]
  },
  {
   "cell_type": "code",
   "execution_count": 30,
   "metadata": {},
   "outputs": [],
   "source": []
  }
 ],
 "metadata": {
  "kernelspec": {
   "display_name": "Tensorflow",
   "language": "python",
   "name": "tensorflow-gpu"
  },
  "language_info": {
   "codemirror_mode": {
    "name": "ipython",
    "version": 3
   },
   "file_extension": ".py",
   "mimetype": "text/x-python",
   "name": "python",
   "nbconvert_exporter": "python",
   "pygments_lexer": "ipython3",
   "version": "3.6.2"
  }
 },
 "nbformat": 4,
 "nbformat_minor": 2
}
