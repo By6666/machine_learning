{
 "cells": [
  {
   "cell_type": "markdown",
   "metadata": {},
   "source": [
    "# 基尼系数"
   ]
  },
  {
   "cell_type": "code",
   "execution_count": 1,
   "metadata": {},
   "outputs": [],
   "source": [
    "import matplotlib.pyplot as plt\n",
    "import numpy as np\n",
    "from sklearn import datasets\n",
    "\n",
    "# 边界绘制函数\n",
    "def plot_decision_boundary(model, axis):\n",
    "    x0, x1 = np.meshgrid(\n",
    "        np.linspace(axis[0], axis[1], int((axis[1] - axis[0]) * 100)),\n",
    "        np.linspace(axis[2], axis[3], int((axis[3] - axis[2]) * 100))\n",
    "    )\n",
    "    \n",
    "    X_new = np.c_[x0.ravel(), x1.ravel()]\n",
    "    \n",
    "    y_predict =model.predict(X_new)\n",
    "    zz = y_predict.reshape(x0.shape)\n",
    "    \n",
    "    from matplotlib.colors import ListedColormap\n",
    "    custom_cmap = ListedColormap([\"#EF9A9A\", \"#FFF59D\", \"#90CAF9\"])\n",
    "    \n",
    "    plt.contourf(x0, x1, zz, cmap = custom_cmap, linewidth = 5)"
   ]
  },
  {
   "cell_type": "code",
   "execution_count": 2,
   "metadata": {},
   "outputs": [
    {
     "data": {
      "image/png": "[encoded data removed]",
      "text/plain": [
       "<Figure size 432x288 with 1 Axes>"
      ]
     },
     "metadata": {},
     "output_type": "display_data"
    }
   ],
   "source": [
    "# 数据加载\n",
    "iris = datasets.load_iris()\n",
    "x = iris.data[:, 2:]\n",
    "y = iris.target\n",
    "\n",
    "plt.scatter(x[y==0, 0], x[y==0, 1])\n",
    "plt.scatter(x[y==1, 0], x[y==1, 1])\n",
    "plt.scatter(x[y==2, 0], x[y==2, 1])\n",
    "plt.show()"
   ]
  },
  {
   "cell_type": "code",
   "execution_count": 3,
   "metadata": {},
   "outputs": [
    {
     "data": {
      "text/plain": [
       "0.9733333333333334"
      ]
     },
     "execution_count": 3,
     "metadata": {},
     "output_type": "execute_result"
    }
   ],
   "source": [
    "from sklearn.tree import DecisionTreeClassifier\n",
    "\n",
    "dt_clf = DecisionTreeClassifier(max_depth=3, criterion=\"gini\")\n",
    "dt_clf.fit(x, y)\n",
    "dt_clf.score(x, y)"
   ]
  },
  {
   "cell_type": "code",
   "execution_count": 4,
   "metadata": {},
   "outputs": [
    {
     "name": "stderr",
     "output_type": "stream",
     "text": [
      "D:\\Anaconda\\Anaconda3\\envs\\Tensorflow-gpu\\lib\\site-packages\\ipykernel_launcher.py:20: UserWarning: The following kwargs were not used by contour: 'linewidth'\n"
     ]
    },
    {
     "data": {
      "image/png": "[encoded data removed]",
      "text/plain": [
       "<Figure size 432x288 with 1 Axes>"
      ]
     },
     "metadata": {},
     "output_type": "display_data"
    }
   ],
   "source": [
    "plot_decision_boundary(dt_clf, [0.5, 7.5, -0.5, 3])\n",
    "plt.scatter(x[y==0, 0], x[y==0, 1])\n",
    "plt.scatter(x[y==1, 0], x[y==1, 1])\n",
    "plt.scatter(x[y==2, 0], x[y==2, 1])\n",
    "plt.show()"
   ]
  },
  {
   "cell_type": "markdown",
   "metadata": {},
   "source": [
    "## 模拟使用基尼系数"
   ]
  },
  {
   "cell_type": "code",
   "execution_count": 5,
   "metadata": {},
   "outputs": [],
   "source": [
    "from collections import Counter\n",
    "\n",
    "def split(x, y, d, value):\n",
    "    index_a = (x[:, d] <= value)\n",
    "    index_b = (x[:, d] > value)\n",
    "    return x[index_a], x[index_b], y[index_a], y[index_b]\n",
    "\n",
    "def gini(y):\n",
    "    counter = Counter(y)\n",
    "    res = 1.0\n",
    "    for num in counter.values():\n",
    "        p = num / len(y)\n",
    "        res -= p ** 2\n",
    "    return res\n",
    "\n",
    "def try_split(x, y):\n",
    "    best_gini = float(\"inf\")\n",
    "    best_d, best_v = -1, -1\n",
    "    for d in range(x.shape[1]):\n",
    "        sorted_index = np.argsort(x[:, d])\n",
    "        for i in range(1, len(x)):\n",
    "            if x[sorted_index[i-1], d] != x[sorted_index[i], d]:\n",
    "                v = (x[sorted_index[i-1], d] + x[sorted_index[i], d]) / 2\n",
    "                x_l, x_r, y_l, y_r = split(x, y, d, v)\n",
    "                g = gini(y_l) + gini(y_r)\n",
    "                if g < best_gini:\n",
    "                    best_gini, best_v, best_d = g, v, d\n",
    "    \n",
    "    return best_gini, best_d, best_v"
   ]
  },
  {
   "cell_type": "markdown",
   "metadata": {},
   "source": [
    "### 第一次划分"
   ]
  },
  {
   "cell_type": "code",
   "execution_count": 6,
   "metadata": {},
   "outputs": [
    {
     "name": "stdout",
     "output_type": "stream",
     "text": [
      "best_gini :  0.5\n",
      "best_d :  0\n",
      "best_v :  2.45\n"
     ]
    }
   ],
   "source": [
    "best_gini, best_d, best_v = try_split(x, y)\n",
    "print(\"best_gini : \", best_gini)\n",
    "print(\"best_d : \", best_d)\n",
    "print(\"best_v : \", best_v)"
   ]
  },
  {
   "cell_type": "code",
   "execution_count": 7,
   "metadata": {},
   "outputs": [
    {
     "data": {
      "text/plain": [
       "0.0"
      ]
     },
     "execution_count": 7,
     "metadata": {},
     "output_type": "execute_result"
    }
   ],
   "source": [
    "x1_l, x1_r, y1_l, y1_r = split(x, y, best_d, best_v)\n",
    "gini(y1_l)"
   ]
  },
  {
   "cell_type": "markdown",
   "metadata": {},
   "source": [
    "### 第二次划分"
   ]
  },
  {
   "cell_type": "code",
   "execution_count": 8,
   "metadata": {},
   "outputs": [
    {
     "name": "stdout",
     "output_type": "stream",
     "text": [
      "best_gini :  0.2105714900645938\n",
      "best_d :  1\n",
      "best_v :  1.75\n"
     ]
    }
   ],
   "source": [
    "best_gini, best_d, best_v = try_split(x1_r, y1_r)\n",
    "print(\"best_gini : \", best_gini)\n",
    "print(\"best_d : \", best_d)\n",
    "print(\"best_v : \", best_v)"
   ]
  },
  {
   "cell_type": "code",
   "execution_count": null,
   "metadata": {},
   "outputs": [],
   "source": []
  }
 ],
 "metadata": {
  "kernelspec": {
   "display_name": "Tensorflow",
   "language": "python",
   "name": "tensorflow-gpu"
  },
  "language_info": {
   "codemirror_mode": {
    "name": "ipython",
    "version": 3
   },
   "file_extension": ".py",
   "mimetype": "text/x-python",
   "name": "python",
   "nbconvert_exporter": "python",
   "pygments_lexer": "ipython3",
   "version": "3.6.2"
  }
 },
 "nbformat": 4,
 "nbformat_minor": 2
}
