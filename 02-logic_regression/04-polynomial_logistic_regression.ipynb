{
 "cells": [
  {
   "cell_type": "markdown",
   "metadata": {},
   "source": [
    "# 逻辑回归中添加多项式特征"
   ]
  },
  {
   "cell_type": "code",
   "execution_count": 1,
   "metadata": {},
   "outputs": [],
   "source": [
    "import matplotlib.pyplot as plt\n",
    "import numpy as np"
   ]
  },
  {
   "cell_type": "code",
   "execution_count": 2,
   "metadata": {},
   "outputs": [
    {
     "data": {
      "image/png": "[encoded data removed]",
      "text/plain": [
       "<Figure size 432x288 with 1 Axes>"
      ]
     },
     "metadata": {},
     "output_type": "display_data"
    }
   ],
   "source": [
    "np.random.seed(666)\n",
    "x = np.random.normal(0, 1, size = (200, 2))\n",
    "y = np.array(x[:, 0]**2 + x[:, 1]**2 < 1.5, dtype=int)\n",
    "\n",
    "plt.scatter(x[y==0, 0], x[y==0, 1])\n",
    "plt.scatter(x[y==1, 0], x[y==1, 1])\n",
    "plt.show()"
   ]
  },
  {
   "cell_type": "markdown",
   "metadata": {},
   "source": [
    "## 使用逻辑回归"
   ]
  },
  {
   "cell_type": "code",
   "execution_count": 8,
   "metadata": {},
   "outputs": [],
   "source": [
    "# sigmoid函数\n",
    "def sigmoid(t):\n",
    "    return 1. / (1. + np.exp(-t))\n",
    "\n",
    "# cost函数\n",
    "def J(x_b, y, theta):\n",
    "    y_heat = sigmoid(x_b.dot(theta))\n",
    "    return -np.sum(y * np.log(y_heat) + (1 - y) * np.log(1 - y_heat)) / len(y)\n",
    "\n",
    "# 梯度求解\n",
    "def delta_J(x_b, y, theta):\n",
    "    return x_b.T.dot(sigmoid(x_b.dot(theta)) - y) / len(y)\n",
    "\n",
    "# 梯度下降法函数\n",
    "def gradient_descent(x_b, y, theta_init, eta, iter_times):\n",
    "    x_b = np.hstack([np.ones(shape=(len(x_b), 1)), x_b]) \n",
    "    theta = theta_init\n",
    "    loss_his = []\n",
    "    \n",
    "    while iter_times:\n",
    "        gradient = delta_J(x_b, y, theta)\n",
    "        theta -= eta * gradient\n",
    "        loss = J(x_b, y, theta)\n",
    "        \n",
    "        loss_his.append(loss)\n",
    "        iter_times -= 1\n",
    "    \n",
    "    return theta, loss_his\n",
    "\n",
    "# 预测函数\n",
    "def predict(x, theta):\n",
    "    x_b = np.hstack([np.ones(shape=(len(x),1)), x])\n",
    "    predict_prob = sigmoid(x_b.dot(theta))\n",
    "    return np.array(predict_prob >= 0.5, dtype=int)\n",
    "\n",
    "def score(y_predict, y_real):\n",
    "    from sklearn.metrics import accuracy_score\n",
    "    return accuracy_score(y_real, y_predict)"
   ]
  },
  {
   "cell_type": "code",
   "execution_count": 9,
   "metadata": {},
   "outputs": [
    {
     "data": {
      "text/plain": [
       "0.615"
      ]
     },
     "execution_count": 9,
     "metadata": {},
     "output_type": "execute_result"
    }
   ],
   "source": [
    "theta_final, loss_his = gradient_descent(x, y, np.zeros(x.shape[1]+1), 0.01, 1000)\n",
    "y_predict = predict(x, theta_final)\n",
    "score(y_predict, y)"
   ]
  },
  {
   "cell_type": "markdown",
   "metadata": {},
   "source": [
    "## 边界绘制函数"
   ]
  },
  {
   "cell_type": "code",
   "execution_count": 12,
   "metadata": {},
   "outputs": [],
   "source": [
    "def plot_decision_boundary(model, axis):\n",
    "    x0, x1 = np.meshgrid(\n",
    "        np.linspace(axis[0], axis[1], int((axis[1] - axis[0]) * 100)),\n",
    "        np.linspace(axis[2], axis[3], int((axis[3] - axis[2]) * 100))\n",
    "    )\n",
    "    \n",
    "    X_new = np.c_[x0.ravel(), x1.ravel()]\n",
    "    \n",
    "    y_predict =predict(X_new, theta_final)\n",
    "    zz = y_predict.reshape(x0.shape)\n",
    "    \n",
    "    from matplotlib.colors import ListedColormap\n",
    "    custom_cmap = ListedColormap([\"#EF9A9A\", \"#FFF59D\", \"#90CAF9\"])\n",
    "    \n",
    "    plt.contourf(x0, x1, zz, cmap = custom_cmap, linewidth = 5)"
   ]
  },
  {
   "cell_type": "code",
   "execution_count": 13,
   "metadata": {},
   "outputs": [
    {
     "name": "stderr",
     "output_type": "stream",
     "text": [
      "D:\\Anaconda\\Anaconda3\\envs\\Tensorflow-gpu\\lib\\site-packages\\ipykernel_launcher.py:15: UserWarning: The following kwargs were not used by contour: 'linewidth'\n",
      "  from ipykernel import kernelapp as app\n"
     ]
    },
    {
     "data": {
      "image/png": "[encoded data removed]",
      "text/plain": [
       "<Figure size 432x288 with 1 Axes>"
      ]
     },
     "metadata": {},
     "output_type": "display_data"
    }
   ],
   "source": [
    "plot_decision_boundary(predict, axis=[-4,4,-4,4])\n",
    "plt.scatter(x[y==0, 0], x[y==0, 1])\n",
    "plt.scatter(x[y==1, 0], x[y==1, 1])\n",
    "plt.show()"
   ]
  },
  {
   "cell_type": "markdown",
   "metadata": {},
   "source": [
    "## 为逻辑回归设置多项式"
   ]
  },
  {
   "cell_type": "code",
   "execution_count": 17,
   "metadata": {},
   "outputs": [],
   "source": [
    "from sklearn.pipeline import Pipeline\n",
    "from sklearn.preprocessing import PolynomialFeatures\n",
    "from sklearn.preprocessing import StandardScaler\n",
    "from sklearn.linear_model import LogisticRegression\n",
    "\n",
    "def PolynomialLogisticRegression(degree):\n",
    "    return Pipeline([\n",
    "        (\"poly\", PolynomialFeatures(degree)),\n",
    "        (\"std\", StandardScaler()),\n",
    "        (\"log_reg\", LogisticRegression(n_jobs=-1))\n",
    "    ])"
   ]
  },
  {
   "cell_type": "code",
   "execution_count": 26,
   "metadata": {},
   "outputs": [
    {
     "name": "stderr",
     "output_type": "stream",
     "text": [
      "D:\\Anaconda\\Anaconda3\\envs\\Tensorflow-gpu\\lib\\site-packages\\sklearn\\linear_model\\logistic.py:432: FutureWarning: Default solver will be changed to 'lbfgs' in 0.22. Specify a solver to silence this warning.\n",
      "  FutureWarning)\n",
      "D:\\Anaconda\\Anaconda3\\envs\\Tensorflow-gpu\\lib\\site-packages\\sklearn\\linear_model\\logistic.py:1544: UserWarning: 'n_jobs' > 1 does not have any effect when 'solver' is set to 'liblinear'. Got 'n_jobs' = 6.\n",
      "  \" = {}.\".format(effective_n_jobs(self.n_jobs)))\n"
     ]
    },
    {
     "data": {
      "text/plain": [
       "Pipeline(memory=None,\n",
       "         steps=[('poly',\n",
       "                 PolynomialFeatures(degree=2, include_bias=True,\n",
       "                                    interaction_only=False, order='C')),\n",
       "                ('std',\n",
       "                 StandardScaler(copy=True, with_mean=True, with_std=True)),\n",
       "                ('log_reg',\n",
       "                 LogisticRegression(C=1.0, class_weight=None, dual=False,\n",
       "                                    fit_intercept=True, intercept_scaling=1,\n",
       "                                    l1_ratio=None, max_iter=100,\n",
       "                                    multi_class='warn', n_jobs=-1, penalty='l2',\n",
       "                                    random_state=None, solver='warn',\n",
       "                                    tol=0.0001, verbose=0, warm_start=False))],\n",
       "         verbose=False)"
      ]
     },
     "execution_count": 26,
     "metadata": {},
     "output_type": "execute_result"
    }
   ],
   "source": [
    "poly_log_reg = PolynomialLogisticRegression(2)\n",
    "poly_log_reg.fit(x, y)"
   ]
  },
  {
   "cell_type": "code",
   "execution_count": 27,
   "metadata": {},
   "outputs": [
    {
     "data": {
      "text/plain": [
       "0.95"
      ]
     },
     "execution_count": 27,
     "metadata": {},
     "output_type": "execute_result"
    }
   ],
   "source": [
    "poly_log_reg.score(x, y)"
   ]
  },
  {
   "cell_type": "code",
   "execution_count": 28,
   "metadata": {},
   "outputs": [
    {
     "name": "stderr",
     "output_type": "stream",
     "text": [
      "D:\\Anaconda\\Anaconda3\\envs\\Tensorflow-gpu\\lib\\site-packages\\ipykernel_launcher.py:15: UserWarning: The following kwargs were not used by contour: 'linewidth'\n",
      "  from ipykernel import kernelapp as app\n"
     ]
    },
    {
     "data": {
      "image/png": "[encoded data removed]",
      "text/plain": [
       "<Figure size 432x288 with 1 Axes>"
      ]
     },
     "metadata": {},
     "output_type": "display_data"
    }
   ],
   "source": [
    "def plot_decision_boundary(model, axis):\n",
    "    x0, x1 = np.meshgrid(\n",
    "        np.linspace(axis[0], axis[1], int((axis[1] - axis[0]) * 100)),\n",
    "        np.linspace(axis[2], axis[3], int((axis[3] - axis[2]) * 100))\n",
    "    )\n",
    "    \n",
    "    X_new = np.c_[x0.ravel(), x1.ravel()]\n",
    "    \n",
    "    y_predict =model.predict(X_new)\n",
    "    zz = y_predict.reshape(x0.shape)\n",
    "    \n",
    "    from matplotlib.colors import ListedColormap\n",
    "    custom_cmap = ListedColormap([\"#EF9A9A\", \"#FFF59D\", \"#90CAF9\"])\n",
    "    \n",
    "    plt.contourf(x0, x1, zz, cmap = custom_cmap, linewidth = 5)\n",
    "\n",
    "plot_decision_boundary(poly_log_reg, axis=[-4,4,-4,4])\n",
    "plt.scatter(x[y==0, 0], x[y==0, 1])\n",
    "plt.scatter(x[y==1, 0], x[y==1, 1])\n",
    "plt.show()"
   ]
  },
  {
   "cell_type": "markdown",
   "metadata": {},
   "source": [
    "# 总结：\n",
    "\n",
    "* 1、逻辑回归与线性回归类似，可以添加多项式项，使得分类器变为多项式分类器\n",
    "* 2、如果degree过大，仍然会发生过拟合现象"
   ]
  },
  {
   "cell_type": "code",
   "execution_count": null,
   "metadata": {},
   "outputs": [],
   "source": []
  }
 ],
 "metadata": {
  "kernelspec": {
   "display_name": "Tensorflow",
   "language": "python",
   "name": "tensorflow-gpu"
  },
  "language_info": {
   "codemirror_mode": {
    "name": "ipython",
    "version": 3
   },
   "file_extension": ".py",
   "mimetype": "text/x-python",
   "name": "python",
   "nbconvert_exporter": "python",
   "pygments_lexer": "ipython3",
   "version": "3.6.2"
  }
 },
 "nbformat": 4,
 "nbformat_minor": 2
}
