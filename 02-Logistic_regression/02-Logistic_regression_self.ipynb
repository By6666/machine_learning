{
 "cells": [
  {
   "cell_type": "markdown",
   "metadata": {},
   "source": [
    "# Logistic regression self"
   ]
  },
  {
   "cell_type": "markdown",
   "metadata": {},
   "source": [
    "## 函数编写"
   ]
  },
  {
   "cell_type": "code",
   "execution_count": 1,
   "metadata": {},
   "outputs": [],
   "source": [
    "import matplotlib.pyplot as plt\n",
    "import numpy as np\n",
    "from sklearn.metrics import accuracy_score "
   ]
  },
  {
   "cell_type": "code",
   "execution_count": 2,
   "metadata": {},
   "outputs": [],
   "source": [
    "# sigmoid函数\n",
    "def sigmoid(t):\n",
    "    return 1. / (1. + np.exp(-t))\n",
    "\n",
    "# cost函数\n",
    "def J(x_b, y, theta):\n",
    "    y_heat = sigmoid(x_b.dot(theta))\n",
    "    return -np.sum(y * np.log(y_heat) + (1 - y) * np.log(1 - y_heat)) / len(y)\n",
    "\n",
    "# 梯度求解\n",
    "def delta_J(x_b, y, theta):\n",
    "    return x_b.T.dot(sigmoid(x_b.dot(theta)) - y) / len(y)"
   ]
  },
  {
   "cell_type": "code",
   "execution_count": 3,
   "metadata": {},
   "outputs": [],
   "source": [
    "# 梯度下降法函数\n",
    "def gradient_descent(x_b, y, theta_init, eta, iter_times):\n",
    "    theta = theta_init\n",
    "    loss_his = []\n",
    "    \n",
    "    while iter_times:\n",
    "        gradient = delta_J(x_b, y, theta)\n",
    "        theta -= eta * gradient\n",
    "        loss = J(x_b, y, theta)\n",
    "        \n",
    "        loss_his.append(loss)\n",
    "        iter_times -= 1\n",
    "    \n",
    "    return theta, loss_his\n",
    "\n",
    "# 预测函数\n",
    "def predict(x, theta):\n",
    "    x_b = np.hstack([np.ones(shape=(len(x),1)), x])\n",
    "    predict_prob = sigmoid(x_b.dot(theta))\n",
    "    return np.array(predict_prob >= 0.5, dtype=int)\n",
    "\n",
    "def score(y_predict, y_real):\n",
    "    return accuracy_score(y_real, y_predict)"
   ]
  },
  {
   "cell_type": "markdown",
   "metadata": {},
   "source": [
    "## 数据测试"
   ]
  },
  {
   "cell_type": "code",
   "execution_count": 4,
   "metadata": {},
   "outputs": [
    {
     "data": {
      "image/png": "[encoded data removed]",
      "text/plain": [
       "<Figure size 432x288 with 1 Axes>"
      ]
     },
     "metadata": {},
     "output_type": "display_data"
    }
   ],
   "source": [
    "from sklearn import datasets\n",
    "from sklearn.model_selection import train_test_split\n",
    "\n",
    "iris = datasets.load_iris()\n",
    "x_prime = iris.data\n",
    "y_prime = iris.target\n",
    "\n",
    "# 转化为二分类问题对应的数据\n",
    "x_prime = x_prime[y_prime < 2, :2]\n",
    "y_prime = y_prime[y_prime < 2]\n",
    "\n",
    "plt.scatter(x_prime[y_prime==0, 0], x_prime[y_prime==0, 1], color = \"red\")\n",
    "plt.scatter(x_prime[y_prime==1, 0], x_prime[y_prime==1, 1], color = \"blue\")\n",
    "plt.show()\n",
    "\n",
    "x_train, x_test, y_train, y_test = train_test_split(x_prime, y_prime, random_state = 666)"
   ]
  },
  {
   "cell_type": "code",
   "execution_count": 5,
   "metadata": {},
   "outputs": [],
   "source": [
    "x_train_b = np.hstack([np.ones(shape=(len(x_train), 1)), x_train])\n",
    "theta_init = np.zeros(shape=(x_train_b.shape[1]))\n",
    "eta = 0.1\n",
    "iter_times = 1000000"
   ]
  },
  {
   "cell_type": "code",
   "execution_count": 6,
   "metadata": {},
   "outputs": [],
   "source": [
    "theta_fina, loss_his = gradient_descent(x_train_b, y_train, theta_init, eta, iter_times)"
   ]
  },
  {
   "cell_type": "code",
   "execution_count": 7,
   "metadata": {},
   "outputs": [
    {
     "data": {
      "image/png": "[encoded data removed]",
      "text/plain": [
       "<Figure size 432x288 with 1 Axes>"
      ]
     },
     "metadata": {},
     "output_type": "display_data"
    }
   ],
   "source": [
    "plt.plot(loss_his)\n",
    "plt.show()"
   ]
  },
  {
   "cell_type": "code",
   "execution_count": 8,
   "metadata": {},
   "outputs": [
    {
     "data": {
      "text/plain": [
       "1.0"
      ]
     },
     "execution_count": 8,
     "metadata": {},
     "output_type": "execute_result"
    }
   ],
   "source": [
    "score(y_test, predict(x_test, theta_fina)) "
   ]
  },
  {
   "cell_type": "code",
   "execution_count": 9,
   "metadata": {},
   "outputs": [
    {
     "data": {
      "text/plain": [
       "array([-48.16640517,  19.15257671, -17.55156967])"
      ]
     },
     "execution_count": 9,
     "metadata": {},
     "output_type": "execute_result"
    }
   ],
   "source": [
    "theta_fina"
   ]
  },
  {
   "cell_type": "markdown",
   "metadata": {},
   "source": [
    "## 决策边界"
   ]
  },
  {
   "cell_type": "code",
   "execution_count": 10,
   "metadata": {},
   "outputs": [
    {
     "data": {
      "image/png": "[encoded data removed]",
      "text/plain": [
       "<Figure size 432x288 with 1 Axes>"
      ]
     },
     "metadata": {},
     "output_type": "display_data"
    }
   ],
   "source": [
    "def x2(x1, theta):\n",
    "    return (-theta[0] - theta[1] * x1) / theta[2]\n",
    "\n",
    "x1_plot = np.linspace(4, 7, 100)\n",
    "x2_plot = x2(x1_plot, theta_fina)\n",
    "\n",
    "plt.plot(x1_plot, x2_plot, color = \"green\")\n",
    "plt.scatter(x_prime[y_prime==0, 0], x_prime[y_prime==0, 1], color = \"red\")\n",
    "plt.scatter(x_prime[y_prime==1, 0], x_prime[y_prime==1, 1], color = \"blue\")\n",
    "plt.show()"
   ]
  },
  {
   "cell_type": "code",
   "execution_count": null,
   "metadata": {},
   "outputs": [],
   "source": []
  }
 ],
 "metadata": {
  "kernelspec": {
   "display_name": "Tensorflow",
   "language": "python",
   "name": "tensorflow-gpu"
  },
  "language_info": {
   "codemirror_mode": {
    "name": "ipython",
    "version": 3
   },
   "file_extension": ".py",
   "mimetype": "text/x-python",
   "name": "python",
   "nbconvert_exporter": "python",
   "pygments_lexer": "ipython3",
   "version": "3.6.2"
  }
 },
 "nbformat": 4,
 "nbformat_minor": 2
}
