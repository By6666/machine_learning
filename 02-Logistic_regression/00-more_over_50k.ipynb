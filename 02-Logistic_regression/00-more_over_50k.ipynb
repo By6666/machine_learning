{
 "cells": [
  {
   "cell_type": "code",
   "execution_count": 1,
   "metadata": {},
   "outputs": [],
   "source": [
    "import matplotlib.pyplot as plt\n",
    "import pandas as pd\n",
    "import numpy as np\n",
    "from sklearn.linear_model import LogisticRegression #for logistic regression\n",
    "from sklearn.preprocessing import MinMaxScaler #for连续数据归一化\n",
    "\n",
    "min_max_scaler = MinMaxScaler()\n",
    "lr = LogisticRegression()"
   ]
  },
  {
   "cell_type": "code",
   "execution_count": 2,
   "metadata": {},
   "outputs": [],
   "source": [
    "train_data_init = pd.read_csv('./data/train.csv')\n",
    "test_data_init = pd.read_csv('./data/test.csv')\n",
    "\n",
    "data = pd.concat([train_data_init,test_data_init],axis=0)\n",
    "mp = data['native-country'].value_counts() / data.shape[0]\n",
    "data['native-country'] = data['native-country'].map(mp)\n",
    "# print(data['native-country'])\n",
    "data[['age','fnlwgt' ,'education-num' ,'capital-gain' ,'capital-loss' ,'hours-per-week']] = \\\n",
    "min_max_scaler.fit_transform(data[['age','fnlwgt' ,'education-num' ,'capital-gain' ,'capital-loss' ,'hours-per-week']])\n",
    "\n",
    "data.loc[data['workclass']=='?','workclass']='Private'\n",
    "data.loc[data['occupation']=='?','occupation']='other'\n",
    "\n",
    "# print(data)\n",
    "\n",
    "cols=['workclass', 'education','marital-status', 'occupation', 'relationship', 'race', 'sex']\n",
    "\n",
    "# dummies函数操作：对列进行one-hot encoding\n",
    "def p_data(data,col):\n",
    "    tmp=pd.get_dummies(data[col],prefix=col)\n",
    "    data=pd.concat([data,tmp],axis=1)\n",
    "    data=data.drop(col,axis=1)\n",
    "    return data\n",
    "\n",
    "for col in cols:\n",
    "    data = p_data(data,col)"
   ]
  },
  {
   "cell_type": "code",
   "execution_count": 3,
   "metadata": {},
   "outputs": [],
   "source": [
    "lable_d={\n",
    "     '<=50K':  0,\n",
    "     '<=50K.': 0,\n",
    "     '>50K' : 1,\n",
    "     '>50K.': 1  \n",
    "}\n",
    "# print(data.columns)\n",
    "data.lable = data.lable.map(lable_d)\n",
    "# print(data.lable)"
   ]
  },
  {
   "cell_type": "code",
   "execution_count": 4,
   "metadata": {},
   "outputs": [],
   "source": [
    "data['lable'] = data['lable'].astype(int)\n",
    "\n",
    "# 获得train and test data\n",
    "train_data=data[0:train_data_init.shape[0]]\n",
    "test_data=data[train_data_init.shape[0]:]"
   ]
  },
  {
   "cell_type": "code",
   "execution_count": 5,
   "metadata": {},
   "outputs": [],
   "source": [
    "train_lable = train_data['lable']\n",
    "train_data = train_data.drop('lable', axis = 1)\n",
    "\n",
    "test_lable = test_data['lable']\n",
    "test_data = test_data.drop('lable', axis = 1)"
   ]
  },
  {
   "cell_type": "code",
   "execution_count": 6,
   "metadata": {},
   "outputs": [
    {
     "name": "stderr",
     "output_type": "stream",
     "text": [
      "/home/by/software/anaconda3/lib/python3.7/site-packages/sklearn/linear_model/logistic.py:432: FutureWarning: Default solver will be changed to 'lbfgs' in 0.22. Specify a solver to silence this warning.\n",
      "  FutureWarning)\n"
     ]
    },
    {
     "data": {
      "text/plain": [
       "LogisticRegression(C=1.0, class_weight=None, dual=False, fit_intercept=True,\n",
       "                   intercept_scaling=1, l1_ratio=None, max_iter=100,\n",
       "                   multi_class='warn', n_jobs=None, penalty='l2',\n",
       "                   random_state=None, solver='warn', tol=0.0001, verbose=0,\n",
       "                   warm_start=False)"
      ]
     },
     "execution_count": 6,
     "metadata": {},
     "output_type": "execute_result"
    }
   ],
   "source": [
    "lr.fit(train_data,train_lable)"
   ]
  },
  {
   "cell_type": "code",
   "execution_count": 7,
   "metadata": {},
   "outputs": [
    {
     "data": {
      "text/plain": [
       "0.8511409354749547"
      ]
     },
     "execution_count": 7,
     "metadata": {},
     "output_type": "execute_result"
    }
   ],
   "source": [
    "lr.score(train_data,train_lable)"
   ]
  },
  {
   "cell_type": "code",
   "execution_count": 8,
   "metadata": {},
   "outputs": [
    {
     "data": {
      "text/plain": [
       "0.8508076899453351"
      ]
     },
     "execution_count": 8,
     "metadata": {},
     "output_type": "execute_result"
    }
   ],
   "source": [
    "lr.score(test_data,test_lable)"
   ]
  },
  {
   "cell_type": "code",
   "execution_count": 9,
   "metadata": {},
   "outputs": [
    {
     "name": "stdout",
     "output_type": "stream",
     "text": [
      "[[ 1.84763952e+00  8.98904852e-01  1.78742018e+00  1.80247873e+01\n",
      "   2.54885575e+00  2.77663606e+00  3.03822092e-01  2.77322800e-01\n",
      "  -3.79524688e-01 -1.60235358e-01 -2.05478738e-01 -2.84554845e-02\n",
      "  -6.83140490e-01 -5.26025552e-01 -1.12263896e+00 -6.35787912e-01\n",
      "  -6.48490620e-01 -3.69619990e-01 -6.62796090e-01 -5.57822174e-01\n",
      "  -8.54180818e-01 -7.65757846e-01 -2.20471742e-02  1.11951722e-01\n",
      "   4.45357503e-01  1.07681394e+00 -1.93300591e-01  6.64657378e-01\n",
      "  -1.45619838e+00  1.01070007e+00  2.83445039e-02 -9.17255300e-01\n",
      "   1.20994248e+00  1.01902788e+00 -9.15424612e-01 -1.38288991e+00\n",
      "  -1.04047931e+00 -8.01097693e-01 -7.46456007e-03 -4.05999080e-01\n",
      "   5.90938632e-02  7.60041581e-01 -9.56420638e-01 -6.88337655e-01\n",
      "  -2.99650252e-01 -8.43223425e-01 -1.56499328e+00  5.08273810e-01\n",
      "   5.36974813e-01  2.59464086e-01  6.21594584e-01 -1.25174861e-01\n",
      "  -6.82355465e-01 -5.64598355e-01 -2.08510982e-01 -1.03678932e+00\n",
      "  -1.37087220e+00 -3.74603006e-01  7.27197397e-01 -8.14729031e-01\n",
      "  -3.13375507e-01 -5.07118342e-01 -8.48471849e-01 -3.44481746e-01\n",
      "  -1.82175673e+00 -1.00641975e+00]] \n",
      " [-2.82817647]\n",
      "66\n"
     ]
    }
   ],
   "source": [
    "# 打印参数\n",
    "print(lr.coef_, '\\n', lr.intercept_)\n",
    "print(lr.coef_.shape[1])"
   ]
  },
  {
   "cell_type": "code",
   "execution_count": 10,
   "metadata": {},
   "outputs": [
    {
     "data": {
      "text/plain": [
       "SVC(C=1.0, cache_size=200, class_weight=None, coef0=0.0,\n",
       "    decision_function_shape='ovr', degree=3, gamma='auto_deprecated',\n",
       "    kernel='linear', max_iter=-1, probability=False, random_state=None,\n",
       "    shrinking=True, tol=0.001, verbose=False)"
      ]
     },
     "execution_count": 10,
     "metadata": {},
     "output_type": "execute_result"
    }
   ],
   "source": [
    "from sklearn.svm import SVC\n",
    "clf=SVC(kernel='linear')\n",
    "clf.fit(train_data,train_lable)"
   ]
  },
  {
   "cell_type": "code",
   "execution_count": 11,
   "metadata": {},
   "outputs": [
    {
     "data": {
      "text/plain": [
       "0.8510795122999908"
      ]
     },
     "execution_count": 11,
     "metadata": {},
     "output_type": "execute_result"
    }
   ],
   "source": [
    "clf.score(train_data,train_lable)"
   ]
  },
  {
   "cell_type": "code",
   "execution_count": 12,
   "metadata": {},
   "outputs": [
    {
     "data": {
      "text/plain": [
       "0.8528960137583687"
      ]
     },
     "execution_count": 12,
     "metadata": {},
     "output_type": "execute_result"
    }
   ],
   "source": [
    "clf.score(test_data,test_lable)"
   ]
  },
  {
   "cell_type": "code",
   "execution_count": 13,
   "metadata": {},
   "outputs": [],
   "source": [
    "y_lr_predict = lr.predict(test_data)"
   ]
  },
  {
   "cell_type": "code",
   "execution_count": 14,
   "metadata": {},
   "outputs": [
    {
     "name": "stdout",
     "output_type": "stream",
     "text": [
      "0.8508076899453351\n"
     ]
    }
   ],
   "source": [
    "diff_cnt = 0\n",
    "for i in range(len(y_lr_predict)):\n",
    "    if y_lr_predict[i] == test_lable[i]:\n",
    "        continue\n",
    "    else:\n",
    "        diff_cnt += 1\n",
    "print(1 - diff_cnt / len(y_lr_predict))"
   ]
  }
 ],
 "metadata": {
  "kernelspec": {
   "display_name": "Python 3",
   "language": "python",
   "name": "python3"
  },
  "language_info": {
   "codemirror_mode": {
    "name": "ipython",
    "version": 3
   },
   "file_extension": ".py",
   "mimetype": "text/x-python",
   "name": "python",
   "nbconvert_exporter": "python",
   "pygments_lexer": "ipython3",
   "version": "3.7.4"
  }
 },
 "nbformat": 4,
 "nbformat_minor": 2
}
