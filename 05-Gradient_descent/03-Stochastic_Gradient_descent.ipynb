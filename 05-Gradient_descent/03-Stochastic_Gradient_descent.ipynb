{
 "cells": [
  {
   "cell_type": "markdown",
   "metadata": {},
   "source": [
    "# 随机梯度下降法  Stochastic Gradient descent"
   ]
  },
  {
   "cell_type": "code",
   "execution_count": 1,
   "metadata": {},
   "outputs": [],
   "source": [
    "import matplotlib.pyplot as plt\n",
    "import numpy as np"
   ]
  },
  {
   "cell_type": "code",
   "execution_count": 2,
   "metadata": {},
   "outputs": [],
   "source": [
    "m = int(1e5)\n",
    "\n",
    "x = np.random.normal(size = m)\n",
    "y = 4. * x + 3. + np.random.normal(0, 3, size = m)\n",
    "x = x.reshape(-1, 1)\n",
    "y = y.reshape(-1, 1)"
   ]
  },
  {
   "cell_type": "code",
   "execution_count": 3,
   "metadata": {},
   "outputs": [],
   "source": [
    "def J(x_b, y, theta):\n",
    "    return np.sum((x_b.dot(theta) - y) ** 2) / len(x_b)"
   ]
  },
  {
   "cell_type": "code",
   "execution_count": 4,
   "metadata": {},
   "outputs": [],
   "source": [
    "def delta_J(x_b, y, theta):\n",
    "    return x_b.T.dot(x_b.dot(theta) - y) * 2. / len(y)"
   ]
  },
  {
   "cell_type": "code",
   "execution_count": 5,
   "metadata": {},
   "outputs": [],
   "source": [
    "# 随机梯度下降法函数\n",
    "def delta_J_SGD(x_b_i, y_i, theta):\n",
    "    return x_b_i.T.dot(x_b_i.dot(theta) - y_i) * 2. / len(x_b_i)"
   ]
  },
  {
   "cell_type": "code",
   "execution_count": 6,
   "metadata": {},
   "outputs": [],
   "source": [
    "def SGD(x_b, y, theta_init, n_iters, exp_nums):\n",
    "    t0 = 5\n",
    "    t1 = 50\n",
    "    loss_his = []\n",
    "    \n",
    "    # 学习率定义\n",
    "    def learn_rate(t):\n",
    "        return t0 / (t + t1)\n",
    "    \n",
    "    theta = theta_init\n",
    "    for cur_iter in range(n_iters):\n",
    "        rand_i = [np.random.randint(len(x_b)) for i in range(exp_nums)]\n",
    "#         rand_i = np.random.randint(len(x_b))\n",
    "        grandient = delta_J_SGD(x_b[rand_i], y[rand_i], theta)\n",
    "        theta -= learn_rate(cur_iter) * grandient\n",
    "        loss_his.append(J(x_b, y, theta))\n",
    "    return theta, loss_his\n",
    "    "
   ]
  },
  {
   "cell_type": "code",
   "execution_count": 7,
   "metadata": {},
   "outputs": [],
   "source": [
    "X = np.hstack([np.ones(shape= (len(x), 1)), x])\n",
    "theta_init = np.zeros((X.shape[1], 1))\n",
    "examples_nums = 10"
   ]
  },
  {
   "cell_type": "code",
   "execution_count": 8,
   "metadata": {},
   "outputs": [
    {
     "name": "stdout",
     "output_type": "stream",
     "text": [
      "Wall time: 40.9 s\n"
     ]
    },
    {
     "data": {
      "text/plain": [
       "array([[2.99739936],\n",
       "       [3.99402045]])"
      ]
     },
     "execution_count": 8,
     "metadata": {},
     "output_type": "execute_result"
    }
   ],
   "source": [
    "%time theta, loss_his = SGD(X, y, theta_init, 100000, examples_nums)\n",
    "theta"
   ]
  },
  {
   "cell_type": "code",
   "execution_count": 9,
   "metadata": {},
   "outputs": [
    {
     "data": {
      "image/png": "[encoded data removed]",
      "text/plain": [
       "<Figure size 432x288 with 1 Axes>"
      ]
     },
     "metadata": {},
     "output_type": "display_data"
    }
   ],
   "source": [
    "plt.plot(loss_his)\n",
    "plt.ylim(8.5,9.5)\n",
    "plt.show()"
   ]
  },
  {
   "cell_type": "code",
   "execution_count": 10,
   "metadata": {},
   "outputs": [
    {
     "data": {
      "text/plain": [
       "2.998471867255861"
      ]
     },
     "execution_count": 10,
     "metadata": {},
     "output_type": "execute_result"
    }
   ],
   "source": [
    "np.sqrt(loss_his[-1])"
   ]
  },
  {
   "cell_type": "code",
   "execution_count": null,
   "metadata": {},
   "outputs": [],
   "source": [
    " "
   ]
  }
 ],
 "metadata": {
  "kernelspec": {
   "display_name": "Tensorflow",
   "language": "python",
   "name": "tensorflow-gpu"
  },
  "language_info": {
   "codemirror_mode": {
    "name": "ipython",
    "version": 3
   },
   "file_extension": ".py",
   "mimetype": "text/x-python",
   "name": "python",
   "nbconvert_exporter": "python",
   "pygments_lexer": "ipython3",
   "version": "3.6.2"
  }
 },
 "nbformat": 4,
 "nbformat_minor": 2
}
