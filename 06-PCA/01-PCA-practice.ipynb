{
 "cells": [
  {
   "cell_type": "markdown",
   "metadata": {},
   "source": [
    "# PCA的简单实现"
   ]
  },
  {
   "cell_type": "code",
   "execution_count": 1,
   "metadata": {},
   "outputs": [],
   "source": [
    "import matplotlib.pyplot as plt\n",
    "import numpy as np"
   ]
  },
  {
   "cell_type": "code",
   "execution_count": 2,
   "metadata": {},
   "outputs": [
    {
     "data": {
      "image/png": "[encoded data removed]",
      "text/plain": [
       "<Figure size 432x288 with 1 Axes>"
      ]
     },
     "metadata": {},
     "output_type": "display_data"
    }
   ],
   "source": [
    "X = np.empty(shape = (100, 2)) \n",
    "np.random.seed(666)\n",
    "X[:, 0] = np.random.uniform(0., 100., size = 100)\n",
    "X[:, 1] = 0.75 * X[:, 0] + 3. + np.random.normal(0, 10., size = 100)\n",
    "\n",
    "plt.scatter(X[:, 0], X[:, 1])\n",
    "plt.show()"
   ]
  },
  {
   "cell_type": "markdown",
   "metadata": {},
   "source": [
    "## step1 - demean"
   ]
  },
  {
   "cell_type": "code",
   "execution_count": 3,
   "metadata": {},
   "outputs": [],
   "source": [
    "# 操作含义：将数据中每一个值减去相应特征的平均值\n",
    "def demean(X):\n",
    "    return X - np.mean(X, axis = 0)"
   ]
  },
  {
   "cell_type": "code",
   "execution_count": 4,
   "metadata": {},
   "outputs": [
    {
     "data": {
      "image/png": "[encoded data removed]",
      "text/plain": [
       "<Figure size 432x288 with 1 Axes>"
      ]
     },
     "metadata": {},
     "output_type": "display_data"
    }
   ],
   "source": [
    "x_demean = demean(X)\n",
    "plt.scatter(x_demean[:, 0], x_demean[:, 1])\n",
    "plt.show()"
   ]
  },
  {
   "cell_type": "markdown",
   "metadata": {},
   "source": [
    "## 梯度上升法求解"
   ]
  },
  {
   "cell_type": "code",
   "execution_count": 5,
   "metadata": {},
   "outputs": [],
   "source": [
    "# 目标函数\n",
    "def f(x, w):\n",
    "    return np.sum(x.dot(w) ** 2) / len(x)"
   ]
  },
  {
   "cell_type": "code",
   "execution_count": 6,
   "metadata": {},
   "outputs": [],
   "source": [
    "# 梯度函数\n",
    "def delta_f(x, w):\n",
    "    return x.T.dot(x.dot(w)) * 2. / len(x)"
   ]
  },
  {
   "cell_type": "code",
   "execution_count": 7,
   "metadata": {},
   "outputs": [],
   "source": [
    "# 处理w，使其模为1\n",
    "def deal_w(w):\n",
    "    return w / np.linalg.norm(w)"
   ]
  },
  {
   "cell_type": "code",
   "execution_count": 8,
   "metadata": {},
   "outputs": [],
   "source": [
    "# 梯度上升法\n",
    "def gradient_ascent(x, w, iter_times, learn_rate):\n",
    "    w = deal_w(w)\n",
    "    loss_his = []\n",
    "    while iter_times:\n",
    "        gradient = delta_f(x, w)\n",
    "        w += learn_rate * gradient\n",
    "        w = deal_w(w)  # 注意一：将w转化为单位向量，简化计算\n",
    "        print(w)\n",
    "        loss_his.append(f(x, w))\n",
    "        iter_times -= 1\n",
    "    return w, loss_his"
   ]
  },
  {
   "cell_type": "code",
   "execution_count": 9,
   "metadata": {},
   "outputs": [
    {
     "name": "stdout",
     "output_type": "stream",
     "text": [
      "[0.72286105 0.69099342]\n",
      "[0.73496463 0.67810545]\n",
      "[0.74428798 0.66785882]\n",
      "[0.75148785 0.65974693]\n",
      "[0.75706043 0.65334486]\n",
      "[0.7613819  0.64830363]\n",
      "[0.76473863 0.64434062]\n",
      "[0.76734947 0.64122912]\n",
      "[0.7693824  0.63878848]\n",
      "[0.77096673 0.63687542]\n",
      "[0.77220231 0.63537673]\n",
      "[0.77316646 0.63420314]\n",
      "[0.77391914 0.63328443]\n",
      "[0.77450693 0.63256542]\n",
      "[0.77496609 0.63200282]\n",
      "[0.77532483 0.63156267]\n",
      "[0.77560518 0.63121835]\n",
      "[0.77582429 0.63094902]\n",
      "[0.77599555 0.63073838]\n",
      "[0.77612943 0.63057363]\n",
      "[0.77623409 0.63044479]\n",
      "[0.77631592 0.63034403]\n",
      "[0.77637989 0.63026523]\n",
      "[0.77642991 0.63020362]\n",
      "[0.77646901 0.63015543]\n",
      "[0.77649959 0.63011775]\n",
      "[0.7765235  0.63008829]\n",
      "[0.77654219 0.63006525]\n",
      "[0.77655681 0.63004724]\n",
      "[0.77656824 0.63003315]\n",
      "[0.77657718 0.63002213]\n",
      "[0.77658417 0.63001352]\n",
      "[0.77658963 0.63000678]\n",
      "[0.7765939  0.63000152]\n",
      "[0.77659724 0.6299974 ]\n",
      "[0.77659986 0.62999418]\n",
      "[0.7766019  0.62999166]\n",
      "[0.7766035  0.62998969]\n",
      "[0.77660474 0.62998815]\n",
      "[0.77660572 0.62998695]\n",
      "[0.77660649 0.62998601]\n",
      "[0.77660708 0.62998527]\n",
      "[0.77660755 0.62998469]\n",
      "[0.77660791 0.62998424]\n",
      "[0.7766082  0.62998389]\n",
      "[0.77660842 0.62998362]\n",
      "[0.7766086 0.6299834]\n",
      "[0.77660873 0.62998323]\n",
      "[0.77660884 0.6299831 ]\n",
      "[0.77660892 0.629983  ]\n",
      "[0.77660899 0.62998292]\n",
      "[0.77660904 0.62998286]\n",
      "[0.77660908 0.62998281]\n",
      "[0.77660911 0.62998277]\n",
      "[0.77660914 0.62998274]\n",
      "[0.77660916 0.62998271]\n",
      "[0.77660917 0.6299827 ]\n",
      "[0.77660918 0.62998268]\n",
      "[0.77660919 0.62998267]\n",
      "[0.7766092  0.62998266]\n",
      "[0.7766092  0.62998265]\n",
      "[0.77660921 0.62998265]\n",
      "[0.77660921 0.62998265]\n",
      "[0.77660921 0.62998264]\n",
      "[0.77660922 0.62998264]\n",
      "[0.77660922 0.62998264]\n",
      "[0.77660922 0.62998264]\n",
      "[0.77660922 0.62998263]\n",
      "[0.77660922 0.62998263]\n",
      "[0.77660922 0.62998263]\n",
      "[0.77660922 0.62998263]\n",
      "[0.77660922 0.62998263]\n",
      "[0.77660922 0.62998263]\n",
      "[0.77660922 0.62998263]\n",
      "[0.77660922 0.62998263]\n",
      "[0.77660922 0.62998263]\n",
      "[0.77660922 0.62998263]\n",
      "[0.77660922 0.62998263]\n",
      "[0.77660922 0.62998263]\n",
      "[0.77660922 0.62998263]\n",
      "[0.77660922 0.62998263]\n",
      "[0.77660922 0.62998263]\n",
      "[0.77660922 0.62998263]\n",
      "[0.77660922 0.62998263]\n",
      "[0.77660922 0.62998263]\n",
      "[0.77660922 0.62998263]\n",
      "[0.77660922 0.62998263]\n",
      "[0.77660922 0.62998263]\n",
      "[0.77660922 0.62998263]\n",
      "[0.77660922 0.62998263]\n",
      "[0.77660922 0.62998263]\n",
      "[0.77660922 0.62998263]\n",
      "[0.77660922 0.62998263]\n",
      "[0.77660922 0.62998263]\n",
      "[0.77660922 0.62998263]\n",
      "[0.77660922 0.62998263]\n",
      "[0.77660922 0.62998263]\n",
      "[0.77660922 0.62998263]\n",
      "[0.77660922 0.62998263]\n",
      "[0.77660922 0.62998263]\n"
     ]
    }
   ],
   "source": [
    "w_init = np.array([1,1])  #注意二：不能使用0向量作为初始向量\n",
    "iter_times = 100\n",
    "learn_rate = 0.0001\n",
    "w_final, loss_his = gradient_ascent(x_demean, w_init, iter_times, learn_rate)"
   ]
  },
  {
   "cell_type": "code",
   "execution_count": 10,
   "metadata": {},
   "outputs": [
    {
     "name": "stdout",
     "output_type": "stream",
     "text": [
      "[0.77660922 0.62998263]\n"
     ]
    },
    {
     "data": {
      "image/png": "[encoded data removed]",
      "text/plain": [
       "<Figure size 432x288 with 1 Axes>"
      ]
     },
     "metadata": {},
     "output_type": "display_data"
    },
    {
     "data": {
      "text/plain": [
       "0.8111964305956482"
      ]
     },
     "execution_count": 10,
     "metadata": {},
     "output_type": "execute_result"
    }
   ],
   "source": [
    "print(w_final)\n",
    "plt.plot(loss_his)\n",
    "plt.show()\n",
    "k = w_final[1] / w_final[0]\n",
    "k"
   ]
  },
  {
   "cell_type": "code",
   "execution_count": 11,
   "metadata": {},
   "outputs": [],
   "source": [
    "# 注意三：不能使用StandardScaler进行数据归一化处理"
   ]
  },
  {
   "cell_type": "markdown",
   "metadata": {},
   "source": [
    "# 总结：\n",
    "\n",
    "* 1、将w转化为单位向量，简化计算\n",
    "* 2、不能使用0向量作为初始向量\n",
    "* 3、不能使用StandardScaler进行数据归一化处理\n",
    "* 4、PCA的目标在于，找一个向量轴，使特征在其上投影的方差之和最大"
   ]
  }
 ],
 "metadata": {
  "kernelspec": {
   "display_name": "Tensorflow",
   "language": "python",
   "name": "tensorflow-gpu"
  },
  "language_info": {
   "codemirror_mode": {
    "name": "ipython",
    "version": 3
   },
   "file_extension": ".py",
   "mimetype": "text/x-python",
   "name": "python",
   "nbconvert_exporter": "python",
   "pygments_lexer": "ipython3",
   "version": "3.6.2"
  }
 },
 "nbformat": 4,
 "nbformat_minor": 2
}
