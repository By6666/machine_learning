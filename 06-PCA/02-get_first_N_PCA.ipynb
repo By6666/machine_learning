{
 "cells": [
  {
   "cell_type": "markdown",
   "metadata": {},
   "source": [
    "# 获得前N个主成分"
   ]
  },
  {
   "cell_type": "code",
   "execution_count": 1,
   "metadata": {},
   "outputs": [],
   "source": [
    "import matplotlib.pyplot as plt\n",
    "import numpy as np"
   ]
  },
  {
   "cell_type": "code",
   "execution_count": 2,
   "metadata": {},
   "outputs": [],
   "source": [
    "np.random.seed(666)\n",
    "X = np.empty(shape = (100, 2))\n",
    "X[:, 0] = np.random.uniform(0., 100., size = 100)\n",
    "X[:, 1] = 0.75 * X[:, 0] + 3. + np.random.normal(0, 10., size = 100)"
   ]
  },
  {
   "cell_type": "code",
   "execution_count": 3,
   "metadata": {},
   "outputs": [],
   "source": [
    "def demean(x):\n",
    "    return x - np.mean(x)\n",
    "\n",
    "X = demean(X)"
   ]
  },
  {
   "cell_type": "code",
   "execution_count": 4,
   "metadata": {},
   "outputs": [
    {
     "data": {
      "image/png": "[encoded data removed]",
      "text/plain": [
       "<Figure size 432x288 with 1 Axes>"
      ]
     },
     "metadata": {},
     "output_type": "display_data"
    }
   ],
   "source": [
    "plt.scatter(X[:, 0], X[:, 1])\n",
    "plt.show()"
   ]
  },
  {
   "cell_type": "code",
   "execution_count": 5,
   "metadata": {},
   "outputs": [],
   "source": [
    "def f(x, w):\n",
    "    return np.sum(x.dot(w) ** 2) / len(x)\n",
    "\n",
    "def delta_f(x, w):\n",
    "    return x.T.dot(x.dot(w)) * 2. / len(x)\n",
    "\n",
    "def direction(w):\n",
    "    return w / np.linalg.norm(w)  # 求单位向量\n",
    "\n",
    "def gradient_ascent(x, w, iter_times, learn_rate):\n",
    "    w = direction(w)\n",
    "    loss_his = []\n",
    "    while iter_times:\n",
    "        gradient = delta_f(x, w)\n",
    "        w += learn_rate * gradient\n",
    "        w = direction(w)  # 注意一：将w转化为单位向量，简化计算\n",
    "        loss_his.append(f(x, w))\n",
    "        iter_times -= 1\n",
    "    return w, loss_his"
   ]
  },
  {
   "cell_type": "code",
   "execution_count": 6,
   "metadata": {},
   "outputs": [
    {
     "data": {
      "image/png": "[encoded data removed]",
      "text/plain": [
       "<Figure size 432x288 with 1 Axes>"
      ]
     },
     "metadata": {},
     "output_type": "display_data"
    },
    {
     "data": {
      "text/plain": [
       "array([0.77852666, 0.62761153])"
      ]
     },
     "execution_count": 6,
     "metadata": {},
     "output_type": "execute_result"
    }
   ],
   "source": [
    "w_init = np.ones(shape=X.shape[1])\n",
    "iter_times = 100\n",
    "learn_rate = 0.0001\n",
    "\n",
    "first_w, first_loss = gradient_ascent(X, w_init, iter_times, learn_rate)\n",
    "\n",
    "plt.plot(first_loss)\n",
    "plt.show()\n",
    "\n",
    "first_w"
   ]
  },
  {
   "cell_type": "code",
   "execution_count": 7,
   "metadata": {},
   "outputs": [
    {
     "data": {
      "image/png": "[encoded data removed]",
      "text/plain": [
       "<Figure size 432x288 with 1 Axes>"
      ]
     },
     "metadata": {},
     "output_type": "display_data"
    }
   ],
   "source": [
    "X2 = X - X.dot(first_w).reshape(-1,1) * first_w\n",
    "plt.scatter(X2[0:, 0], X2[0:, 1])\n",
    "plt.show()"
   ]
  },
  {
   "cell_type": "markdown",
   "metadata": {},
   "source": [
    "# 获得前n个主成分函数"
   ]
  },
  {
   "cell_type": "code",
   "execution_count": 8,
   "metadata": {},
   "outputs": [],
   "source": [
    "def first_n_components(n, x, eta, iters_n):\n",
    "    x_pca = x.copy()\n",
    "    x_pca = demean(x_pca)\n",
    "    res = []\n",
    "    \n",
    "    for i in range(n):\n",
    "        init_w = np.ones(shape=x_pca.shape[1])\n",
    "        w, loss = gradient_ascent(x_pca, init_w, iters_n, eta)\n",
    "        res.append(w)\n",
    "        \n",
    "        x_pca -= x_pca.dot(w).reshape(-1,1) * w\n",
    "    \n",
    "    return res"
   ]
  },
  {
   "cell_type": "code",
   "execution_count": 9,
   "metadata": {},
   "outputs": [
    {
     "data": {
      "text/plain": [
       "[array([0.77852666, 0.62761153]), array([-0.62761151,  0.77852668])]"
      ]
     },
     "execution_count": 9,
     "metadata": {},
     "output_type": "execute_result"
    }
   ],
   "source": [
    "res = first_n_components(2, X, 0.001, 100)\n",
    "res"
   ]
  },
  {
   "cell_type": "code",
   "execution_count": 10,
   "metadata": {},
   "outputs": [],
   "source": [
    "new = np.empty(shape=(100,2)) \n",
    "new[:, 0] = X.dot(res[0])\n",
    "new[:, 1] = X.dot(res[1])"
   ]
  },
  {
   "cell_type": "code",
   "execution_count": 11,
   "metadata": {},
   "outputs": [
    {
     "data": {
      "image/png": "[encoded data removed]",
      "text/plain": [
       "<Figure size 432x288 with 1 Axes>"
      ]
     },
     "metadata": {},
     "output_type": "display_data"
    }
   ],
   "source": [
    "plt.scatter(new[:, 0], new[:, 1])\n",
    "plt.show()"
   ]
  },
  {
   "cell_type": "code",
   "execution_count": null,
   "metadata": {},
   "outputs": [],
   "source": []
  }
 ],
 "metadata": {
  "kernelspec": {
   "display_name": "Tensorflow",
   "language": "python",
   "name": "tensorflow-gpu"
  },
  "language_info": {
   "codemirror_mode": {
    "name": "ipython",
    "version": 3
   },
   "file_extension": ".py",
   "mimetype": "text/x-python",
   "name": "python",
   "nbconvert_exporter": "python",
   "pygments_lexer": "ipython3",
   "version": "3.6.2"
  }
 },
 "nbformat": 4,
 "nbformat_minor": 2
}
