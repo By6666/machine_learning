{
 "cells": [
  {
   "cell_type": "code",
   "execution_count": 1,
   "metadata": {},
   "outputs": [],
   "source": [
    "import matplotlib.pyplot as plt\n",
    "import numpy as np\n",
    "import random"
   ]
  },
  {
   "cell_type": "markdown",
   "metadata": {},
   "source": [
    "# 最值归一化\n",
    "\n",
    "## 存在问题\n",
    "* 1、受到最大值的影响\n",
    "* 2、有固定边界的时候使用较好"
   ]
  },
  {
   "cell_type": "code",
   "execution_count": 2,
   "metadata": {},
   "outputs": [],
   "source": [
    "x = np.random.randint(0,100,size=(50,2))"
   ]
  },
  {
   "cell_type": "code",
   "execution_count": 3,
   "metadata": {},
   "outputs": [],
   "source": [
    "x = np.array(x, dtype=float)"
   ]
  },
  {
   "cell_type": "code",
   "execution_count": 6,
   "metadata": {},
   "outputs": [
    {
     "data": {
      "text/plain": [
       "array([[0.66666667, 0.        ],\n",
       "       [0.7311828 , 0.7244898 ],\n",
       "       [0.6344086 , 0.8877551 ],\n",
       "       [0.77419355, 0.13265306],\n",
       "       [0.97849462, 0.96938776],\n",
       "       [0.67741935, 0.90816327],\n",
       "       [0.04301075, 0.07142857],\n",
       "       [0.44086022, 0.29591837],\n",
       "       [0.25806452, 0.89795918],\n",
       "       [0.94623656, 0.03061224],\n",
       "       [0.21505376, 0.26530612],\n",
       "       [0.75268817, 0.62244898],\n",
       "       [0.01075269, 0.83673469],\n",
       "       [0.10752688, 0.70408163],\n",
       "       [0.53763441, 0.98979592],\n",
       "       [0.61290323, 0.        ],\n",
       "       [0.2688172 , 0.94897959],\n",
       "       [0.33333333, 0.76530612],\n",
       "       [0.17204301, 0.76530612],\n",
       "       [0.21505376, 0.34693878],\n",
       "       [0.38709677, 0.60204082],\n",
       "       [0.32258065, 0.98979592],\n",
       "       [0.79569892, 0.18367347],\n",
       "       [0.80645161, 0.42857143],\n",
       "       [0.22580645, 0.69387755],\n",
       "       [0.25806452, 0.95918367],\n",
       "       [0.39784946, 0.        ],\n",
       "       [0.72043011, 1.        ],\n",
       "       [0.41935484, 0.07142857],\n",
       "       [0.78494624, 0.66326531],\n",
       "       [0.72043011, 0.70408163],\n",
       "       [0.96774194, 0.7755102 ],\n",
       "       [0.09677419, 0.30612245],\n",
       "       [0.5483871 , 0.7244898 ],\n",
       "       [0.83870968, 0.01020408],\n",
       "       [1.        , 0.45918367],\n",
       "       [0.        , 0.59183673],\n",
       "       [0.5483871 , 0.12244898],\n",
       "       [0.66666667, 0.41836735],\n",
       "       [0.2688172 , 0.        ],\n",
       "       [0.19354839, 0.07142857],\n",
       "       [0.69892473, 0.78571429],\n",
       "       [0.23655914, 0.89795918],\n",
       "       [0.15053763, 0.12244898],\n",
       "       [0.5483871 , 0.2755102 ],\n",
       "       [0.04301075, 0.42857143],\n",
       "       [1.        , 0.29591837],\n",
       "       [0.25806452, 0.03061224],\n",
       "       [0.6344086 , 0.48979592],\n",
       "       [0.70967742, 0.79591837]])"
      ]
     },
     "execution_count": 6,
     "metadata": {},
     "output_type": "execute_result"
    }
   ],
   "source": [
    "fd = x[:,0:1]\n",
    "sd = x[:,1:]\n",
    "\n",
    "def Normalization(data):\n",
    "    data = (data - data.min()) / (data.max() -  data.min())\n",
    "    return data\n",
    "\n",
    "fd = Normalization(fd)\n",
    "sd = Normalization(sd)\n",
    "\n",
    "x = np.hstack([fd, sd])\n",
    "x"
   ]
  },
  {
   "cell_type": "code",
   "execution_count": 7,
   "metadata": {},
   "outputs": [
    {
     "data": {
      "image/png": "[encoded data removed]",
      "text/plain": [
       "<Figure size 432x288 with 1 Axes>"
      ]
     },
     "metadata": {},
     "output_type": "display_data"
    }
   ],
   "source": [
    "plt.scatter(fd, sd)\n",
    "plt.show()"
   ]
  },
  {
   "cell_type": "markdown",
   "metadata": {},
   "source": [
    "# 均值方差归一化 Standardization"
   ]
  },
  {
   "cell_type": "code",
   "execution_count": 9,
   "metadata": {},
   "outputs": [],
   "source": [
    "x2 = np.random.randint(1,100,size=(50,2))\n",
    "x2 = np.array(x2, dtype=float)"
   ]
  },
  {
   "cell_type": "code",
   "execution_count": 11,
   "metadata": {},
   "outputs": [
    {
     "data": {
      "text/plain": [
       "array([[-1.37935921,  0.76934314],\n",
       "       [ 1.51054121, -0.70434951],\n",
       "       [ 1.38065804, -0.51541456],\n",
       "       [-1.21700525,  1.18500004],\n",
       "       [-0.53511864, -1.19558039],\n",
       "       [ 0.73124222, -1.1577934 ],\n",
       "       [ 1.44559962, -0.93107146],\n",
       "       [ 0.11429719, -0.62877553],\n",
       "       [ 1.38065804,  1.29836101],\n",
       "       [ 0.24418035,  1.7518049 ],\n",
       "       [-0.89229734, -0.70434951],\n",
       "       [-0.27535231,  0.9204911 ],\n",
       "       [-0.56758943, -0.62877553],\n",
       "       [-0.47017706,  0.54262119],\n",
       "       [ 1.05595013,  0.5048342 ],\n",
       "       [ 0.11429719, -1.30894137],\n",
       "       [ 0.01688481,  1.22278703],\n",
       "       [-0.47017706,  0.46704721],\n",
       "       [-1.21700525, -0.77992349],\n",
       "       [-0.21041073, -1.76238526],\n",
       "       [ 0.60135905, -1.46008933],\n",
       "       [ 1.70536595, -0.55320155],\n",
       "       [ 0.69877143,  1.7518049 ],\n",
       "       [-0.11299835,  1.78959189],\n",
       "       [ 1.70536595,  0.20253827],\n",
       "       [ 0.11429719, -0.43984057],\n",
       "       [ 1.12089171,  0.76934314],\n",
       "       [-0.63253101, -1.76238526],\n",
       "       [-0.98970972, -0.59098854],\n",
       "       [-1.08712209,  1.03385207],\n",
       "       [ 1.12089171, -0.17533164],\n",
       "       [-0.72994339, -1.61123729],\n",
       "       [-1.47677158,  0.27811225],\n",
       "       [-1.41183   ,  0.24032526],\n",
       "       [ 1.38065804,  1.18500004],\n",
       "       [-1.21700525, -0.09975766],\n",
       "       [-1.47677158,  0.12696429],\n",
       "       [ 0.11429719, -0.47762757],\n",
       "       [-0.3078231 ,  1.82737888],\n",
       "       [-1.37935921, -1.46008933],\n",
       "       [ 0.60135905, -0.77992349],\n",
       "       [-0.17793994,  0.42926022],\n",
       "       [ 1.57548279, -0.13754465],\n",
       "       [ 0.7961838 ,  0.58040818],\n",
       "       [-1.31441763, -0.59098854],\n",
       "       [-1.0546513 , -0.47762757],\n",
       "       [ 0.0493556 ,  1.336148  ],\n",
       "       [ 0.14676798,  0.16475128],\n",
       "       [-0.6650018 , -0.55320155],\n",
       "       [ 1.543012  ,  1.10942605]])"
      ]
     },
     "execution_count": 11,
     "metadata": {},
     "output_type": "execute_result"
    }
   ],
   "source": [
    "x2[:,0] = (x2[:,0] - np.mean(x2[:,0])) / np.std(x2[:,0])\n",
    "x2[:,1] = (x2[:,1] - np.mean(x2[:,1])) / np.std(x2[:,1])\n",
    "x2"
   ]
  },
  {
   "cell_type": "code",
   "execution_count": 13,
   "metadata": {},
   "outputs": [
    {
     "data": {
      "image/png": "[encoded data removed]",
      "text/plain": [
       "<Figure size 432x288 with 1 Axes>"
      ]
     },
     "metadata": {},
     "output_type": "display_data"
    },
    {
     "data": {
      "text/plain": [
       "1.0"
      ]
     },
     "execution_count": 13,
     "metadata": {},
     "output_type": "execute_result"
    }
   ],
   "source": [
    "plt.scatter(x2[:,0],x2[:,1])\n",
    "plt.show()\n",
    "np.std(x2[:,0])"
   ]
  }
 ],
 "metadata": {
  "kernelspec": {
   "display_name": "Tensorflow-gpu",
   "language": "python",
   "name": "tensorflow-gpu"
  },
  "language_info": {
   "codemirror_mode": {
    "name": "ipython",
    "version": 3
   },
   "file_extension": ".py",
   "mimetype": "text/x-python",
   "name": "python",
   "nbconvert_exporter": "python",
   "pygments_lexer": "ipython3",
   "version": "3.6.2"
  }
 },
 "nbformat": 4,
 "nbformat_minor": 2
}
