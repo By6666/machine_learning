{
 "cells": [
  {
   "cell_type": "code",
   "execution_count": 1,
   "metadata": {},
   "outputs": [],
   "source": [
    "import matplotlib.pyplot as plt\n",
    "import numpy as np\n",
    "import random"
   ]
  },
  {
   "cell_type": "markdown",
   "metadata": {},
   "source": [
    "# 最值归一化\n",
    "\n",
    "## 存在问题\n",
    "* 1、受到最大值的影响\n",
    "* 2、有固定边界的时候使用较好"
   ]
  },
  {
   "cell_type": "code",
   "execution_count": 2,
   "metadata": {},
   "outputs": [],
   "source": [
    "x = np.random.randint(0,100,size=(50,2))"
   ]
  },
  {
   "cell_type": "code",
   "execution_count": 3,
   "metadata": {},
   "outputs": [],
   "source": [
    "x = np.array(x, dtype=float)"
   ]
  },
  {
   "cell_type": "code",
   "execution_count": 4,
   "metadata": {},
   "outputs": [
    {
     "data": {
      "text/plain": [
       "array([[0.94845361, 0.68686869],\n",
       "       [0.62886598, 0.44444444],\n",
       "       [0.68041237, 0.86868687],\n",
       "       [0.54639175, 0.17171717],\n",
       "       [0.78350515, 0.29292929],\n",
       "       [0.32989691, 0.21212121],\n",
       "       [0.63917526, 0.07070707],\n",
       "       [0.90721649, 0.03030303],\n",
       "       [0.51546392, 0.18181818],\n",
       "       [0.89690722, 1.        ],\n",
       "       [0.25773196, 0.15151515],\n",
       "       [0.39175258, 0.62626263],\n",
       "       [0.70103093, 0.06060606],\n",
       "       [0.84536082, 0.03030303],\n",
       "       [0.46391753, 0.7979798 ],\n",
       "       [0.30927835, 0.01010101],\n",
       "       [0.46391753, 0.8989899 ],\n",
       "       [0.57731959, 0.17171717],\n",
       "       [0.08247423, 0.88888889],\n",
       "       [0.63917526, 0.94949495],\n",
       "       [0.44329897, 0.1010101 ],\n",
       "       [0.25773196, 0.96969697],\n",
       "       [0.68041237, 0.83838384],\n",
       "       [1.        , 0.37373737],\n",
       "       [0.90721649, 0.38383838],\n",
       "       [0.25773196, 0.37373737],\n",
       "       [0.34020619, 0.43434343],\n",
       "       [0.5257732 , 0.21212121],\n",
       "       [0.79381443, 0.88888889],\n",
       "       [0.5257732 , 0.64646465],\n",
       "       [0.30927835, 0.53535354],\n",
       "       [0.30927835, 0.8989899 ],\n",
       "       [0.        , 0.80808081],\n",
       "       [0.78350515, 0.64646465],\n",
       "       [0.05154639, 0.91919192],\n",
       "       [0.91752577, 0.32323232],\n",
       "       [0.35051546, 0.68686869],\n",
       "       [0.27835052, 0.08080808],\n",
       "       [0.03092784, 0.03030303],\n",
       "       [0.29896907, 0.51515152],\n",
       "       [0.22680412, 0.        ],\n",
       "       [0.73195876, 0.43434343],\n",
       "       [0.53608247, 0.63636364],\n",
       "       [0.48453608, 0.        ],\n",
       "       [0.22680412, 0.66666667],\n",
       "       [0.57731959, 0.46464646],\n",
       "       [0.06185567, 0.47474747],\n",
       "       [0.67010309, 0.42424242],\n",
       "       [0.68041237, 0.55555556],\n",
       "       [0.01030928, 0.35353535]])"
      ]
     },
     "execution_count": 4,
     "metadata": {},
     "output_type": "execute_result"
    }
   ],
   "source": [
    "fd = x[:,0:1]\n",
    "sd = x[:,1:]\n",
    "\n",
    "def Normalization(data):\n",
    "    data = (data - data.min()) / (data.max() -  data.min())\n",
    "    return data\n",
    "\n",
    "fd = Normalization(fd)\n",
    "sd = Normalization(sd)\n",
    "\n",
    "x = np.hstack([fd, sd])\n",
    "x"
   ]
  },
  {
   "cell_type": "code",
   "execution_count": 5,
   "metadata": {},
   "outputs": [
    {
     "data": {
      "image/png": "[encoded data removed]",
      "text/plain": [
       "<Figure size 432x288 with 1 Axes>"
      ]
     },
     "metadata": {},
     "output_type": "display_data"
    }
   ],
   "source": [
    "plt.scatter(fd, sd)\n",
    "plt.show()"
   ]
  },
  {
   "cell_type": "markdown",
   "metadata": {},
   "source": [
    "# 均值方差归一化 Standardization"
   ]
  },
  {
   "cell_type": "code",
   "execution_count": 6,
   "metadata": {},
   "outputs": [],
   "source": [
    "x2 = np.random.randint(1,100,size=(50,2))\n",
    "x2 = np.array(x2, dtype=float)"
   ]
  },
  {
   "cell_type": "code",
   "execution_count": 7,
   "metadata": {},
   "outputs": [
    {
     "data": {
      "text/plain": [
       "array([[-0.85672191, -0.22390318],\n",
       "       [ 1.73092795,  1.28895613],\n",
       "       [-1.20640433,  1.25113464],\n",
       "       [-0.15735709,  1.70499244],\n",
       "       [-0.33219829, -1.50983359],\n",
       "       [ 1.27634081, -1.16944024],\n",
       "       [ 1.03156312,  0.64599092],\n",
       "       [-0.33219829,  0.30559758],\n",
       "       [-1.20640433, -1.4720121 ],\n",
       "       [ 0.47207126, -1.09379728],\n",
       "       [ 1.69595971, -1.4720121 ],\n",
       "       [-0.82175367, -0.602118  ],\n",
       "       [ 0.68188071,  0.87291982],\n",
       "       [-0.96162664,  0.83509834],\n",
       "       [-0.43710302,  1.44024206],\n",
       "       [-0.68188071, -0.11043873],\n",
       "       [-0.43710302, -1.81240545],\n",
       "       [-1.55608674, -0.11043873],\n",
       "       [-0.15735709,  0.57034796],\n",
       "       [-0.19232533, -0.03479576],\n",
       "       [ 0.57697598,  0.22995461],\n",
       "       [-0.99659488, -1.01815431],\n",
       "       [-1.41621378,  1.51588502],\n",
       "       [ 0.71684895,  0.15431165],\n",
       "       [-0.71684895,  0.45688351],\n",
       "       [-0.96162664, -0.26172466],\n",
       "       [ 0.40213478, -0.07261725],\n",
       "       [ 1.5211185 , -1.58547655],\n",
       "       [ 0.82175367,  0.15431165],\n",
       "       [-0.33219829,  1.06202723],\n",
       "       [-0.61194422, -0.48865356],\n",
       "       [ 1.62602323, -0.86686838],\n",
       "       [ 1.80086443,  1.51588502],\n",
       "       [-0.78678543, -1.39636914],\n",
       "       [-0.05245236,  0.11649017],\n",
       "       [ 1.80086443,  0.75945537],\n",
       "       [-0.68188071, -0.98033283],\n",
       "       [ 1.34627729,  1.74281392],\n",
       "       [-0.68188071,  1.06202723],\n",
       "       [-0.64691247,  0.34341906],\n",
       "       [-0.54200774, -0.71558245],\n",
       "       [ 0.0874206 , -1.62329803],\n",
       "       [-0.19232533, -0.90468986],\n",
       "       [ 1.48615026, -1.09379728],\n",
       "       [-1.62602323, -0.26172466],\n",
       "       [-0.9266584 ,  1.51588502],\n",
       "       [-0.82175367,  0.2677761 ],\n",
       "       [-0.29723005,  0.38124054],\n",
       "       [ 1.38124554,  0.0408472 ],\n",
       "       [ 1.17143609,  0.64599092]])"
      ]
     },
     "execution_count": 7,
     "metadata": {},
     "output_type": "execute_result"
    }
   ],
   "source": [
    "x2[:,0] = (x2[:,0] - np.mean(x2[:,0])) / np.std(x2[:,0])\n",
    "x2[:,1] = (x2[:,1] - np.mean(x2[:,1])) / np.std(x2[:,1])\n",
    "x2"
   ]
  },
  {
   "cell_type": "code",
   "execution_count": 8,
   "metadata": {},
   "outputs": [
    {
     "data": {
      "image/png": "[encoded data removed]",
      "text/plain": [
       "<Figure size 432x288 with 1 Axes>"
      ]
     },
     "metadata": {},
     "output_type": "display_data"
    },
    {
     "data": {
      "text/plain": [
       "1.0"
      ]
     },
     "execution_count": 8,
     "metadata": {},
     "output_type": "execute_result"
    }
   ],
   "source": [
    "plt.scatter(x2[:,0],x2[:,1])\n",
    "plt.show()\n",
    "np.std(x2[:,0])"
   ]
  }
 ],
 "metadata": {
  "kernelspec": {
   "display_name": "Tensorflow",
   "language": "python",
   "name": "tensorflow-gpu"
  },
  "language_info": {
   "codemirror_mode": {
    "name": "ipython",
    "version": 3
   },
   "file_extension": ".py",
   "mimetype": "text/x-python",
   "name": "python",
   "nbconvert_exporter": "python",
   "pygments_lexer": "ipython3",
   "version": "3.6.2"
  }
 },
 "nbformat": 4,
 "nbformat_minor": 2
}
