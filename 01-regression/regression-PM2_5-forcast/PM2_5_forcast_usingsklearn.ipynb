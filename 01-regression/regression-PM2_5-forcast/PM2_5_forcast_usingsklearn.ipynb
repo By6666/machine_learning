{
 "cells": [
  {
   "cell_type": "code",
   "execution_count": 1,
   "metadata": {},
   "outputs": [],
   "source": [
    "from sklearn.linear_model import LinearRegression\n",
    "import matplotlib.pyplot as plt\n",
    "import numpy as np\n",
    "import pandas as pd\n",
    "import time\n",
    "import math"
   ]
  },
  {
   "cell_type": "code",
   "execution_count": 2,
   "metadata": {},
   "outputs": [
    {
     "name": "stdout",
     "output_type": "stream",
     "text": [
      "spend time:  0.013937234878540039\n"
     ]
    }
   ],
   "source": [
    "# 获得测试集数据\n",
    "train_data = pd.read_csv('Dataset/train.csv')\n",
    "train_data.drop(['Date','stations','observation'], axis=1, inplace=True)\n",
    "\n",
    "# 种类数\n",
    "ItemNum = 18\n",
    "\n",
    "#训练样本features集合\n",
    "X_Train=[]\n",
    "#训练样本目标PM2.5集合\n",
    "Y_Train=[]\n",
    "\n",
    "for i in range(int(len(train_data)/ItemNum)):\n",
    "    oneday_all_data = train_data[i*ItemNum:(i+1)*ItemNum]\n",
    "#     print(oneday_all_data,'\\n')\n",
    "    for j in range(15):\n",
    "        x = oneday_all_data.iloc[:,j-24:j+9-24] # 将一天的数据分为15份\n",
    "        y = int(oneday_all_data.iloc[9,j+9-24])\n",
    "        \n",
    "        x_temp_1 = np.array(x.loc[i*ItemNum + 8], dtype = float)\n",
    "        x_temp_2 = np.array(x.loc[i*ItemNum + 9], dtype = float) \n",
    "        x_temp_3 = np.array(x.loc[i*ItemNum + 12], dtype = float)\n",
    "        \n",
    "        x_temp = np.hstack((x_temp_1,x_temp_2,x_temp_3))\n",
    "        \n",
    "        # 存储分割好的数据\n",
    "        X_Train.append(x_temp) \n",
    "        Y_Train.append(y)\n",
    "\n",
    "# X_Train = np.array(X_Train)    \n",
    "# print(X_Train[0])\n",
    "start = time.time()\n",
    "lr = LinearRegression(n_jobs = -1)\n",
    "lr.fit(X_Train,Y_Train)\n",
    "end = time.time()\n",
    "print('spend time: ',end-start)"
   ]
  },
  {
   "cell_type": "code",
   "execution_count": 3,
   "metadata": {},
   "outputs": [
    {
     "name": "stdout",
     "output_type": "stream",
     "text": [
      "[-0.00464263  0.01397336 -0.03886028  0.0293388  -0.00365658 -0.04661882\n",
      "  0.03694577 -0.0054193   0.06047693  0.00577817 -0.0319874   0.21899017\n",
      " -0.22012773 -0.02856183  0.46212953 -0.54537651  0.01505894  0.99127644\n",
      " -0.46716408  0.2627013  -0.06921504 -0.11462512  0.06221699  0.033768\n",
      " -0.23443064  0.11238785  0.44891618] 1.2370217163519577\n"
     ]
    },
    {
     "data": {
      "text/plain": [
       "0.8642344228321901"
      ]
     },
     "execution_count": 3,
     "metadata": {},
     "output_type": "execute_result"
    }
   ],
   "source": [
    "print(lr.coef_, lr.intercept_)\n",
    "lr.score(X_Train,Y_Train)"
   ]
  },
  {
   "cell_type": "code",
   "execution_count": 4,
   "metadata": {},
   "outputs": [
    {
     "name": "stdout",
     "output_type": "stream",
     "text": [
      "[ 26.18092614  63.57302806  20.90314472  28.28963918   9.34406627\n",
      "  33.5490418   40.28724266  16.17788036  49.65729409  33.27574277\n",
      "  38.763363    59.48529629  33.69755922  39.94773314  26.794709\n",
      "  14.74904896  52.32504042  22.21012476  17.86870757  18.94942663\n",
      "  15.8914936   30.30600209  39.54971277   9.81289057  60.68817977\n",
      "  44.82558238  27.51142459   8.32167009  30.28479175  36.87104417\n",
      "  18.12549797  12.00321927  16.11403962   6.02804942  17.60334914\n",
      "  41.19504785  17.6771232   27.02837406  10.56886521  61.67202954\n",
      "  46.43952061  18.80972995  51.47678332  18.5801014   45.19535254\n",
      "  52.09439202  59.27479298  42.02589947  51.18520885  38.81958474\n",
      "  29.28909189  24.57790373  40.29845482  25.43255711  38.51133607\n",
      "  41.45660096  25.05631596  23.84954214  36.90428891  31.96347542\n",
      "  15.6034831   22.98198949  33.87056678  56.01593861  51.8942751\n",
      "  27.20472325  38.94244224  52.65495848  28.33395282  38.35767696\n",
      "  63.54098021  53.13086363  43.18642129  11.94621414  12.0566948\n",
      "  35.37024652  62.74817238   1.93400113  43.27563763  39.6199662\n",
      "   8.80522694  21.62541116   7.88053194  34.14223823   8.49150619\n",
      "   7.63421801  17.342933    11.70383287  16.7313012   27.59622491\n",
      "  32.2277482   11.45895208  14.13817385   6.36360564  40.06175134\n",
      "  15.66662209  17.41436709   8.78548905  13.32206978   5.8639992\n",
      "  11.60057546  20.29136399  12.43547344   8.16587993  14.90538866\n",
      "  36.923383    25.82819037   8.10157941  17.0821414   16.6833761\n",
      "  13.6408441   18.50711312  15.14328708  28.14584463  22.04863972\n",
      "  16.64776114   7.50265555  45.03792926  27.49825524   1.37338433\n",
      "   2.31053447  10.68274832  15.52926574  14.2164017    7.76283328\n",
      "  26.92745019  19.37239762  12.25174523  20.02173145  17.79790492\n",
      "   3.91125816  35.03158244  15.12964693  27.23297225  24.58592748\n",
      "  22.8538498   11.14743843  20.3430581   75.62480261  62.38455752\n",
      "  29.10743341  18.95296826  25.18347936   8.07638521  13.70961229\n",
      "  10.37994676  19.52007763   8.501131    15.6174927   16.509845\n",
      "  46.99554504  22.87736805  24.11639613  13.78181756  16.3164323\n",
      "  25.84036971  26.23848956  35.5939138    4.01307351  23.74717115\n",
      "  41.15287224  20.07374555  58.36012003  19.12270088  35.93690847\n",
      "  25.76939697  18.59947765   1.11055202  65.60558389  14.72105886\n",
      "  17.80412832  70.52224547  19.55465868   2.43721165  25.67678091\n",
      "   2.2085072    8.05701139  18.77295011  20.55948089  23.68859242\n",
      "  44.05784514  27.4742737   28.05631939  12.16436137   7.56446333\n",
      "  41.60643306  36.6405574   34.92468388  16.17071532  20.95768296\n",
      "  15.71771726  16.66782289  32.91211014  75.50641883  29.25739327\n",
      "  12.42035136  64.79890408  17.17195515  18.58573157  19.77389251\n",
      " 126.99036816  25.22293708  59.05429283   7.44883283  61.4666604\n",
      "  35.35111576  16.41763183  13.58178437  65.13935155  16.30003837\n",
      "  31.4873017   69.77712422  20.62686724 118.14012735  39.15278348\n",
      "  78.43246854  93.70632022  72.82810043  30.8113817   16.01431222\n",
      "  30.06622953  58.02521354  27.20293204  38.9197526   43.372948\n",
      "   8.05863121   2.69742013  73.83881304  28.83702445   1.02796235\n",
      "  40.24670007  14.139904    22.06994731   8.2465886   13.04628324\n",
      "  22.61280211  12.76324285   0.4560895   21.49391936   5.42955234]\n"
     ]
    }
   ],
   "source": [
    "test_data = pd.read_csv('./Dataset/test.csv')\n",
    "test_data = test_data.drop(['ID', 'observation'], axis=1)\n",
    "\n",
    "X_test = []\n",
    "\n",
    "for i in range(int(len(test_data)/ItemNum)):\n",
    "    x_temp_1 = np.array(test_data.loc[i*ItemNum + 8], dtype = float)\n",
    "    x_temp_2 = np.array(test_data.loc[i*ItemNum + 9], dtype = float) \n",
    "    x_temp_3 = np.array(test_data.loc[i*ItemNum + 12], dtype = float)\n",
    "        \n",
    "    x_temp = np.hstack((x_temp_1,x_temp_2,x_temp_3))\n",
    "    \n",
    "    X_test.append(x_temp)\n",
    "\n",
    "result_y = lr.predict(X_test)\n",
    "print(result_y)"
   ]
  },
  {
   "cell_type": "code",
   "execution_count": 5,
   "metadata": {},
   "outputs": [
    {
     "data": {
      "text/plain": [
       "1.0"
      ]
     },
     "execution_count": 5,
     "metadata": {},
     "output_type": "execute_result"
    }
   ],
   "source": [
    "lr.score(X_test, result_y)"
   ]
  }
 ],
 "metadata": {
  "kernelspec": {
   "display_name": "Python 3",
   "language": "python",
   "name": "python3"
  },
  "language_info": {
   "codemirror_mode": {
    "name": "ipython",
    "version": 3
   },
   "file_extension": ".py",
   "mimetype": "text/x-python",
   "name": "python",
   "nbconvert_exporter": "python",
   "pygments_lexer": "ipython3",
   "version": "3.7.4"
  }
 },
 "nbformat": 4,
 "nbformat_minor": 2
}
